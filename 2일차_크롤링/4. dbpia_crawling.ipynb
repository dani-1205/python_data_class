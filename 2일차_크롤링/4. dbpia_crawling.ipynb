{
 "cells": [
  {
   "cell_type": "markdown",
   "id": "0866a784",
   "metadata": {},
   "source": [
    "## DBPIA 논문 데이터 크롤링\n",
    "- 기본 페이지 정보 외에 상세 페이지로 접근을 해서 데이터를 가져오는 크롤링 코드"
   ]
  },
  {
   "cell_type": "code",
   "execution_count": null,
   "id": "e6ec004d",
   "metadata": {},
   "outputs": [],
   "source": []
  },
  {
   "cell_type": "code",
   "execution_count": null,
   "id": "3b6b746a",
   "metadata": {},
   "outputs": [],
   "source": []
  }
 ],
 "metadata": {
  "kernelspec": {
   "display_name": "Python 3 (ipykernel)",
   "language": "python",
   "name": "python3"
  },
  "language_info": {
   "codemirror_mode": {
    "name": "ipython",
    "version": 3
   },
   "file_extension": ".py",
   "mimetype": "text/x-python",
   "name": "python",
   "nbconvert_exporter": "python",
   "pygments_lexer": "ipython3",
   "version": "3.9.13"
  }
 },
 "nbformat": 4,
 "nbformat_minor": 5
}
