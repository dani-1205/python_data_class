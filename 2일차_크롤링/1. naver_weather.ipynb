{
 "cells": [
  {
   "cell_type": "markdown",
   "id": "63e2cd0f",
   "metadata": {},
   "source": [
    "# 크롤링 기초\n",
    "## 네이버 날씨 정보 가져오기"
   ]
  },
  {
   "cell_type": "code",
   "execution_count": 36,
   "id": "3e966ba8",
   "metadata": {},
   "outputs": [
    {
     "name": "stdout",
     "output_type": "stream",
     "text": [
      "Requirement already satisfied: selenium in c:\\users\\hde10\\anaconda3\\lib\\site-packages (4.5.0)Note: you may need to restart the kernel to use updated packages.\n",
      "\n",
      "Requirement already satisfied: certifi>=2021.10.8 in c:\\users\\hde10\\anaconda3\\lib\\site-packages (from selenium) (2022.9.14)\n",
      "Requirement already satisfied: urllib3[socks]~=1.26 in c:\\users\\hde10\\anaconda3\\lib\\site-packages (from selenium) (1.26.11)\n",
      "Requirement already satisfied: trio~=0.17 in c:\\users\\hde10\\anaconda3\\lib\\site-packages (from selenium) (0.22.0)\n",
      "Requirement already satisfied: trio-websocket~=0.9 in c:\\users\\hde10\\anaconda3\\lib\\site-packages (from selenium) (0.9.2)\n",
      "Requirement already satisfied: sortedcontainers in c:\\users\\hde10\\anaconda3\\lib\\site-packages (from trio~=0.17->selenium) (2.4.0)\n",
      "Requirement already satisfied: cffi>=1.14 in c:\\users\\hde10\\anaconda3\\lib\\site-packages (from trio~=0.17->selenium) (1.15.1)\n",
      "Requirement already satisfied: async-generator>=1.9 in c:\\users\\hde10\\anaconda3\\lib\\site-packages (from trio~=0.17->selenium) (1.10)\n",
      "Requirement already satisfied: idna in c:\\users\\hde10\\anaconda3\\lib\\site-packages (from trio~=0.17->selenium) (3.3)\n",
      "Requirement already satisfied: outcome in c:\\users\\hde10\\anaconda3\\lib\\site-packages (from trio~=0.17->selenium) (1.2.0)\n",
      "Requirement already satisfied: exceptiongroup>=1.0.0rc9 in c:\\users\\hde10\\anaconda3\\lib\\site-packages (from trio~=0.17->selenium) (1.0.0)\n",
      "Requirement already satisfied: attrs>=19.2.0 in c:\\users\\hde10\\anaconda3\\lib\\site-packages (from trio~=0.17->selenium) (21.4.0)\n",
      "Requirement already satisfied: sniffio in c:\\users\\hde10\\anaconda3\\lib\\site-packages (from trio~=0.17->selenium) (1.2.0)\n",
      "Requirement already satisfied: wsproto>=0.14 in c:\\users\\hde10\\anaconda3\\lib\\site-packages (from trio-websocket~=0.9->selenium) (1.2.0)\n",
      "Requirement already satisfied: PySocks!=1.5.7,<2.0,>=1.5.6 in c:\\users\\hde10\\anaconda3\\lib\\site-packages (from urllib3[socks]~=1.26->selenium) (1.7.1)\n",
      "Requirement already satisfied: pycparser in c:\\users\\hde10\\anaconda3\\lib\\site-packages (from cffi>=1.14->trio~=0.17->selenium) (2.21)\n",
      "Requirement already satisfied: h11<1,>=0.9.0 in c:\\users\\hde10\\anaconda3\\lib\\site-packages (from wsproto>=0.14->trio-websocket~=0.9->selenium) (0.14.0)\n"
     ]
    }
   ],
   "source": [
    "pip install selenium"
   ]
  },
  {
   "cell_type": "code",
   "execution_count": 37,
   "id": "bf52fd5d",
   "metadata": {},
   "outputs": [],
   "source": [
    "from selenium import webdriver"
   ]
  },
  {
   "cell_type": "code",
   "execution_count": 38,
   "id": "4a66d128",
   "metadata": {},
   "outputs": [],
   "source": [
    "browser = webdriver.Chrome()"
   ]
  },
  {
   "cell_type": "code",
   "execution_count": 39,
   "id": "d1cdbb7b",
   "metadata": {},
   "outputs": [],
   "source": [
    "browser.get(\"http://www.naver.com\")"
   ]
  },
  {
   "cell_type": "code",
   "execution_count": 40,
   "id": "0c74b235",
   "metadata": {},
   "outputs": [],
   "source": [
    "browser.get(\"https://search.naver.com/search.naver?where=nexearch&sm=top_hty&fbm=0&ie=utf8&query=%EB%82%A0%EC%94%A8\")"
   ]
  },
  {
   "cell_type": "code",
   "execution_count": 41,
   "id": "ed4c96d5",
   "metadata": {},
   "outputs": [],
   "source": [
    "from selenium.webdriver.common.by import By"
   ]
  },
  {
   "cell_type": "code",
   "execution_count": 42,
   "id": "fc96b773",
   "metadata": {},
   "outputs": [],
   "source": [
    "browser.find_element(By.ID, 'nx_query').click()"
   ]
  },
  {
   "cell_type": "code",
   "execution_count": 43,
   "id": "8e866702",
   "metadata": {},
   "outputs": [],
   "source": [
    "browser.find_element(By.ID, 'nx_query').send_keys(\"날씨\")"
   ]
  },
  {
   "cell_type": "code",
   "execution_count": 44,
   "id": "6b3bd71b",
   "metadata": {},
   "outputs": [],
   "source": [
    "browser.find_element(By.XPATH, '//*[@id=\"nx_search_form\"]/fieldset/button').click()"
   ]
  },
  {
   "cell_type": "code",
   "execution_count": 45,
   "id": "847334fe",
   "metadata": {},
   "outputs": [
    {
     "data": {
      "text/plain": [
       "<selenium.webdriver.remote.webelement.WebElement (session=\"dce2484171d89604b3c052222c3854c6\", element=\"41195e9f-d436-46bc-b222-0fb289f3b87a\")>"
      ]
     },
     "execution_count": 45,
     "metadata": {},
     "output_type": "execute_result"
    }
   ],
   "source": [
    "browser.find_element(By.CLASS_NAME, 'blind')"
   ]
  },
  {
   "cell_type": "code",
   "execution_count": 46,
   "id": "1ee03c4e",
   "metadata": {},
   "outputs": [
    {
     "data": {
      "text/plain": [
       "'11.9°'"
      ]
     },
     "execution_count": 46,
     "metadata": {},
     "output_type": "execute_result"
    }
   ],
   "source": [
    "data = browser.find_element(By.XPATH, '//*[@id=\"main_pack\"]/section[1]/div[1]/div[2]/div[1]/div[1]/div/div[2]/div/div[1]/div[1]/div[2]').text\n",
    "data[6:]"
   ]
  },
  {
   "cell_type": "code",
   "execution_count": 47,
   "id": "4e680efc",
   "metadata": {},
   "outputs": [
    {
     "data": {
      "text/plain": [
       "'°'"
      ]
     },
     "execution_count": 47,
     "metadata": {},
     "output_type": "execute_result"
    }
   ],
   "source": [
    "browser.find_element(By.XPATH, '//*[@id=\"main_pack\"]/section[1]/div[1]/div[2]/div[1]/div[1]/div/div[2]/div/div[1]/div[1]/div[2]').find_element(By.CLASS_NAME, 'celsius').text"
   ]
  },
  {
   "cell_type": "code",
   "execution_count": 48,
   "id": "bfb5ffaf",
   "metadata": {},
   "outputs": [],
   "source": [
    "browser.find_element(By.ID, 'nx_query').click()"
   ]
  },
  {
   "cell_type": "code",
   "execution_count": 49,
   "id": "9b9e1669",
   "metadata": {},
   "outputs": [],
   "source": [
    "browser.find_element(By.ID, 'nx_query').clear()"
   ]
  },
  {
   "cell_type": "code",
   "execution_count": 50,
   "id": "0ae2d9f3",
   "metadata": {},
   "outputs": [],
   "source": [
    "browser.find_element(By.ID, 'nx_query').send_keys(\"환율\")"
   ]
  },
  {
   "cell_type": "code",
   "execution_count": 51,
   "id": "7f95461e",
   "metadata": {},
   "outputs": [],
   "source": [
    "browser.find_element(By.XPATH, '//*[@id=\"nx_search_form\"]/fieldset/button').click()"
   ]
  },
  {
   "cell_type": "code",
   "execution_count": 52,
   "id": "e47d14e9",
   "metadata": {},
   "outputs": [
    {
     "data": {
      "text/plain": [
       "'1,431.00'"
      ]
     },
     "execution_count": 52,
     "metadata": {},
     "output_type": "execute_result"
    }
   ],
   "source": [
    "browser.find_element(By.XPATH, '//*[@id=\"_cs_foreigninfo\"]/div/div[2]/div/div[1]/div[1]/div[1]/div[1]/h3/a/span[2]/strong').text"
   ]
  },
  {
   "cell_type": "markdown",
   "id": "9c4e49c0",
   "metadata": {},
   "source": [
    "## 구글 뉴스 크롤링"
   ]
  },
  {
   "cell_type": "markdown",
   "id": "39b61058",
   "metadata": {},
   "source": [
    "### 단건 뉴스 크롤링"
   ]
  },
  {
   "cell_type": "code",
   "execution_count": 53,
   "id": "d5b2e089",
   "metadata": {},
   "outputs": [],
   "source": [
    "browser.get('https://www.google.com/search?q=%EC%9E%90%EB%8F%99%ED%99%94&source=lnms&tbm=nws&sa=X&ved=2ahUKEwi0ivrzjYP7AhVMyGEKHSYHAY8Q_AUoAnoECAIQBA&biw=990&bih=534&dpr=1.25')"
   ]
  },
  {
   "cell_type": "code",
   "execution_count": 54,
   "id": "aab22ff8",
   "metadata": {},
   "outputs": [
    {
     "data": {
      "text/plain": [
       "'일본 도쿄도립대, 편의점 화장실 자동화 로봇 개발'"
      ]
     },
     "execution_count": 54,
     "metadata": {},
     "output_type": "execute_result"
    }
   ],
   "source": [
    "browser.find_element(By.CLASS_NAME, 'mCBkyc').text"
   ]
  },
  {
   "cell_type": "code",
   "execution_count": 55,
   "id": "3ec2db27",
   "metadata": {},
   "outputs": [
    {
     "data": {
      "text/plain": [
       "'일본 도쿄도립대 연구팀이 편의점과 공공시설 내 화장실 청소를 자동화할 수 있는 로봇시스템을 개발했다고 테크엑스플로어가 28일(현지 시각) 보도...'"
      ]
     },
     "execution_count": 55,
     "metadata": {},
     "output_type": "execute_result"
    }
   ],
   "source": [
    "browser.find_element(By.CLASS_NAME, 'GI74Re').text"
   ]
  },
  {
   "cell_type": "code",
   "execution_count": 56,
   "id": "6eb0e0a7",
   "metadata": {},
   "outputs": [
    {
     "data": {
      "text/plain": [
       "'http://www.irobotnews.com/news/articleView.html?idxno=29933'"
      ]
     },
     "execution_count": 56,
     "metadata": {},
     "output_type": "execute_result"
    }
   ],
   "source": [
    "browser.find_element(By.CLASS_NAME, 'WlydOe').get_attribute('href')"
   ]
  },
  {
   "cell_type": "markdown",
   "id": "d997e58d",
   "metadata": {},
   "source": [
    "### 1페이지 뉴스 크롤링(10개)"
   ]
  },
  {
   "cell_type": "code",
   "execution_count": 57,
   "id": "f29986bd",
   "metadata": {},
   "outputs": [
    {
     "data": {
      "text/plain": [
       "['일본 도쿄도립대, 편의점 화장실 자동화 로봇 개발',\n",
       " '[팝콘뉴스] NH투자증권, 업계 최초 솔루션지능형 자동화기기 ...',\n",
       " '전력구 안전성 평가 자동화·디지털화 기술개발 추진',\n",
       " \"[인터뷰] “AI 인지검색 솔루션 '알리', 업무 자동화의 좋은 파트너 ...\",\n",
       " '롯데홈쇼핑, 이천 물류센터 오픈...최첨단 자동화 시스템 갖춰',\n",
       " \"로봇 기반 자동화 시스템으로…롯데홈쇼핑, '스마트 풀필먼트' 구축\",\n",
       " '롯데홈쇼핑, 이천 물류센터 오픈...로봇기반 첨단 자동화시스템 도입',\n",
       " \"'5분이면 청약 끝'…한화생명, 청약자동화 솔루션 특허 취득\",\n",
       " '농식품 우수벤처에 한약제조 자동화한 카멜로테크',\n",
       " \"[사진] 자동화 시설 자랑하는 中 '26층 돼지 사육 빌딩'\"]"
      ]
     },
     "execution_count": 57,
     "metadata": {},
     "output_type": "execute_result"
    }
   ],
   "source": [
    "titles = browser.find_elements(By.CLASS_NAME, 'mCBkyc')\n",
    "\n",
    "title = []\n",
    "for i in titles:\n",
    "    title.append(i.text)\n",
    "\n",
    "title"
   ]
  },
  {
   "cell_type": "code",
   "execution_count": 58,
   "id": "7c6945c8",
   "metadata": {},
   "outputs": [
    {
     "name": "stdout",
     "output_type": "stream",
     "text": [
      "['일본 도쿄도립대, 편의점 화장실 자동화 로봇 개발', '[팝콘뉴스] NH투자증권, 업계 최초 솔루션지능형 자동화기기 ...', '전력구 안전성 평가 자동화·디지털화 기술개발 추진', \"[인터뷰] “AI 인지검색 솔루션 '알리', 업무 자동화의 좋은 파트너 ...\", '롯데홈쇼핑, 이천 물류센터 오픈...최첨단 자동화 시스템 갖춰', \"로봇 기반 자동화 시스템으로…롯데홈쇼핑, '스마트 풀필먼트' 구축\", '롯데홈쇼핑, 이천 물류센터 오픈...로봇기반 첨단 자동화시스템 도입', \"'5분이면 청약 끝'…한화생명, 청약자동화 솔루션 특허 취득\", '농식품 우수벤처에 한약제조 자동화한 카멜로테크', \"[사진] 자동화 시설 자랑하는 中 '26층 돼지 사육 빌딩'\"]\n",
      "['일본 도쿄도립대 연구팀이 편의점과 공공시설 내 화장실 청소를 자동화할 수 있는 로봇시스템을 개발했다고 테크엑스플로어가 28일(현지 시각) 보도...', 'STM은 솔루션 지능형 자동화 기기로 고객들의 고빈도 업무처리를 위해 도입됐으며, 증권사 센터에 설치된 것은 이번이 처음이다.', '이와 함께 인공지능 기술을 기반으로 자동화가 가능하고, 열화정보들을 빅데이터로 관리 및 계량화함으로써 사고를 예측하고 선제적으로 대응해...', 'AI 자동화 통해 업무 생산성 향상. 이창수 대표는 모바일 게임사들을 대상으로 데이터 분석과 마케팅 자동화 솔루션을 제공하는 파이브락스(5Rocks)를...', '자율주행로봇, 무인운반차, 로봇팔 디팔렛타이저 등 최첨단 자동화 설비 도입. 롯데홈쇼핑(대표 이완신)이 난 21일(금) 경기도 이천에서 업계 최초로...', \"롯데홈쇼핑이 업계 최초로 자동화 시스템을 도입해 최첨단 물류 인프라를 구현한 '이천 물류센터'의 문을 열었다. 롯데홈쇼핑은 지난 21일 경기도...\", '이들은 오픈식 이후 물류센터를 함께 둘러보고 자동화 설비를 시연하는 투어를 진행했다. 이 대표는 축사를 통해 “자동화 물류 시스템 도입은 롯데홈쇼핑...', '(서울=연합인포맥스) 정지서 기자 = 한화생명이 업계 최초로 보험 신계약 과정을 로봇 기술로 자동화하며 법인대리점(GA) 시장에서의 영업 경쟁력...', \"카멜로테크는 환자들이 진료 뒤 바로 한약을 받을 수 있도록 한약 제조과정을 자동화했다. 또 한방차를 내려 먹을 수는 한방캡슐 '달이다'도 개발해...\", \"[사진] 자동화 시설 자랑하는 中 '26층 돼지 사육 빌딩'. (중국 우한=신화통신) 26층짜리 돼지 사육 빌딩 내부 돈사를 지난 28일 촬영했다.\"]\n"
     ]
    }
   ],
   "source": [
    "contents = browser.find_elements(By.CLASS_NAME, 'GI74Re')\n",
    "\n",
    "content = []\n",
    "for i in contents:\n",
    "    content.append(i.text)\n",
    "\n",
    "print(title)\n",
    "print(content)"
   ]
  },
  {
   "cell_type": "code",
   "execution_count": 59,
   "id": "7c3f3d60",
   "metadata": {},
   "outputs": [
    {
     "name": "stdout",
     "output_type": "stream",
     "text": [
      "제목 : 일본 도쿄도립대, 편의점 화장실 자동화 로봇 개발\n",
      "내용 : 일본 도쿄도립대 연구팀이 편의점과 공공시설 내 화장실 청소를 자동화할 수 있는 로봇시스템을 개발했다고 테크엑스플로어가 28일(현지 시각) 보도...\n",
      "링크 : http://www.irobotnews.com/news/articleView.html?idxno=29933\n"
     ]
    }
   ],
   "source": [
    "links = browser.find_elements(By.CLASS_NAME, 'WlydOe')\n",
    "\n",
    "link = []\n",
    "for i in links:\n",
    "    link.append(i.get_attribute('href'))\n",
    "    \n",
    "print(\"제목 : \" + title[0])\n",
    "print(\"내용 : \" + content[0])\n",
    "print(\"링크 : \" + link[0])"
   ]
  },
  {
   "cell_type": "code",
   "execution_count": 60,
   "id": "3f86cd15",
   "metadata": {},
   "outputs": [],
   "source": [
    "file = open(\"test.csv\", \"a\", encoding=\"UTF-8-sig\")\n",
    "file. write(\"{}, {}, {} \\n\".format(\"제목\", \"내용\", \"링크\"))\n",
    "file. write(\"{}, {}, {} \\n\".format(\"제목2\", \"내용2\", \"링크2\"))\n",
    "file.close()"
   ]
  },
  {
   "cell_type": "code",
   "execution_count": 66,
   "id": "6f106548",
   "metadata": {},
   "outputs": [],
   "source": [
    "file = open(\"google_news.csv\", \"a\", encoding=\"UTF-8-sig\")\n",
    "\n",
    "for i in range(len(title)):\n",
    "    file.write(\"{}, {}, {} \\n\".format(title[i], content[i], link[i]))\n",
    "\n",
    "file.close()\n",
    "\n",
    "#5:21:25"
   ]
  },
  {
   "cell_type": "code",
   "execution_count": null,
   "id": "694748ce",
   "metadata": {},
   "outputs": [],
   "source": []
  }
 ],
 "metadata": {
  "kernelspec": {
   "display_name": "Python 3 (ipykernel)",
   "language": "python",
   "name": "python3"
  },
  "language_info": {
   "codemirror_mode": {
    "name": "ipython",
    "version": 3
   },
   "file_extension": ".py",
   "mimetype": "text/x-python",
   "name": "python",
   "nbconvert_exporter": "python",
   "pygments_lexer": "ipython3",
   "version": "3.9.13"
  }
 },
 "nbformat": 4,
 "nbformat_minor": 5
}
