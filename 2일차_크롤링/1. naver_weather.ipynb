{
 "cells": [
  {
   "cell_type": "markdown",
   "id": "63e2cd0f",
   "metadata": {},
   "source": [
    "# 크롤링 기초\n",
    "## 네이버 날씨 정보 가져오기"
   ]
  },
  {
   "cell_type": "code",
   "execution_count": 36,
   "id": "3e966ba8",
   "metadata": {},
   "outputs": [
    {
     "name": "stdout",
     "output_type": "stream",
     "text": [
      "Requirement already satisfied: selenium in c:\\users\\hde10\\anaconda3\\lib\\site-packages (4.5.0)Note: you may need to restart the kernel to use updated packages.\n",
      "\n",
      "Requirement already satisfied: certifi>=2021.10.8 in c:\\users\\hde10\\anaconda3\\lib\\site-packages (from selenium) (2022.9.14)\n",
      "Requirement already satisfied: urllib3[socks]~=1.26 in c:\\users\\hde10\\anaconda3\\lib\\site-packages (from selenium) (1.26.11)\n",
      "Requirement already satisfied: trio~=0.17 in c:\\users\\hde10\\anaconda3\\lib\\site-packages (from selenium) (0.22.0)\n",
      "Requirement already satisfied: trio-websocket~=0.9 in c:\\users\\hde10\\anaconda3\\lib\\site-packages (from selenium) (0.9.2)\n",
      "Requirement already satisfied: sortedcontainers in c:\\users\\hde10\\anaconda3\\lib\\site-packages (from trio~=0.17->selenium) (2.4.0)\n",
      "Requirement already satisfied: cffi>=1.14 in c:\\users\\hde10\\anaconda3\\lib\\site-packages (from trio~=0.17->selenium) (1.15.1)\n",
      "Requirement already satisfied: async-generator>=1.9 in c:\\users\\hde10\\anaconda3\\lib\\site-packages (from trio~=0.17->selenium) (1.10)\n",
      "Requirement already satisfied: idna in c:\\users\\hde10\\anaconda3\\lib\\site-packages (from trio~=0.17->selenium) (3.3)\n",
      "Requirement already satisfied: outcome in c:\\users\\hde10\\anaconda3\\lib\\site-packages (from trio~=0.17->selenium) (1.2.0)\n",
      "Requirement already satisfied: exceptiongroup>=1.0.0rc9 in c:\\users\\hde10\\anaconda3\\lib\\site-packages (from trio~=0.17->selenium) (1.0.0)\n",
      "Requirement already satisfied: attrs>=19.2.0 in c:\\users\\hde10\\anaconda3\\lib\\site-packages (from trio~=0.17->selenium) (21.4.0)\n",
      "Requirement already satisfied: sniffio in c:\\users\\hde10\\anaconda3\\lib\\site-packages (from trio~=0.17->selenium) (1.2.0)\n",
      "Requirement already satisfied: wsproto>=0.14 in c:\\users\\hde10\\anaconda3\\lib\\site-packages (from trio-websocket~=0.9->selenium) (1.2.0)\n",
      "Requirement already satisfied: PySocks!=1.5.7,<2.0,>=1.5.6 in c:\\users\\hde10\\anaconda3\\lib\\site-packages (from urllib3[socks]~=1.26->selenium) (1.7.1)\n",
      "Requirement already satisfied: pycparser in c:\\users\\hde10\\anaconda3\\lib\\site-packages (from cffi>=1.14->trio~=0.17->selenium) (2.21)\n",
      "Requirement already satisfied: h11<1,>=0.9.0 in c:\\users\\hde10\\anaconda3\\lib\\site-packages (from wsproto>=0.14->trio-websocket~=0.9->selenium) (0.14.0)\n"
     ]
    }
   ],
   "source": [
    "pip install selenium"
   ]
  },
  {
   "cell_type": "code",
   "execution_count": 49,
   "id": "bf52fd5d",
   "metadata": {},
   "outputs": [],
   "source": [
    "from selenium import webdriver"
   ]
  },
  {
   "cell_type": "code",
   "execution_count": 50,
   "id": "4a66d128",
   "metadata": {},
   "outputs": [],
   "source": [
    "browser = webdriver.Chrome()"
   ]
  },
  {
   "cell_type": "code",
   "execution_count": 51,
   "id": "d1cdbb7b",
   "metadata": {},
   "outputs": [],
   "source": [
    "browser.get(\"http://www.naver.com\")"
   ]
  },
  {
   "cell_type": "code",
   "execution_count": 52,
   "id": "0c74b235",
   "metadata": {},
   "outputs": [],
   "source": [
    "browser.get(\"https://search.naver.com/search.naver?where=nexearch&sm=top_hty&fbm=0&ie=utf8&query=%EB%82%A0%EC%94%A8\")"
   ]
  },
  {
   "cell_type": "code",
   "execution_count": 7,
   "id": "ed4c96d5",
   "metadata": {},
   "outputs": [],
   "source": [
    "from selenium.webdriver.common.by import By"
   ]
  },
  {
   "cell_type": "code",
   "execution_count": 8,
   "id": "fc96b773",
   "metadata": {},
   "outputs": [],
   "source": [
    "browser.find_element(By.ID, 'nx_query').click()"
   ]
  },
  {
   "cell_type": "code",
   "execution_count": 9,
   "id": "8e866702",
   "metadata": {},
   "outputs": [],
   "source": [
    "browser.find_element(By.ID, 'nx_query').send_keys(\"날씨\")"
   ]
  },
  {
   "cell_type": "code",
   "execution_count": 10,
   "id": "6b3bd71b",
   "metadata": {},
   "outputs": [],
   "source": [
    "browser.find_element(By.XPATH, '//*[@id=\"nx_search_form\"]/fieldset/button').click()"
   ]
  },
  {
   "cell_type": "code",
   "execution_count": 11,
   "id": "847334fe",
   "metadata": {},
   "outputs": [
    {
     "data": {
      "text/plain": [
       "<selenium.webdriver.remote.webelement.WebElement (session=\"852aca2cbd8b7b074f445884d65535a0\", element=\"da8737a8-5d26-45b7-a780-5c9063ea9be2\")>"
      ]
     },
     "execution_count": 11,
     "metadata": {},
     "output_type": "execute_result"
    }
   ],
   "source": [
    "browser.find_element(By.CLASS_NAME, 'blind')"
   ]
  },
  {
   "cell_type": "code",
   "execution_count": 12,
   "id": "1ee03c4e",
   "metadata": {},
   "outputs": [
    {
     "data": {
      "text/plain": [
       "'15.8°'"
      ]
     },
     "execution_count": 12,
     "metadata": {},
     "output_type": "execute_result"
    }
   ],
   "source": [
    "data = browser.find_element(By.XPATH, '//*[@id=\"main_pack\"]/section[1]/div[1]/div[2]/div[1]/div[1]/div/div[2]/div/div[1]/div[1]/div[2]').text\n",
    "data[6:]"
   ]
  },
  {
   "cell_type": "code",
   "execution_count": 13,
   "id": "4e680efc",
   "metadata": {},
   "outputs": [
    {
     "data": {
      "text/plain": [
       "'°'"
      ]
     },
     "execution_count": 13,
     "metadata": {},
     "output_type": "execute_result"
    }
   ],
   "source": [
    "browser.find_element(By.XPATH, '//*[@id=\"main_pack\"]/section[1]/div[1]/div[2]/div[1]/div[1]/div/div[2]/div/div[1]/div[1]/div[2]').find_element(By.CLASS_NAME, 'celsius').text"
   ]
  },
  {
   "cell_type": "code",
   "execution_count": 14,
   "id": "bfb5ffaf",
   "metadata": {},
   "outputs": [],
   "source": [
    "browser.find_element(By.ID, 'nx_query').click()"
   ]
  },
  {
   "cell_type": "code",
   "execution_count": 15,
   "id": "9b9e1669",
   "metadata": {},
   "outputs": [],
   "source": [
    "browser.find_element(By.ID, 'nx_query').clear()"
   ]
  },
  {
   "cell_type": "code",
   "execution_count": 16,
   "id": "0ae2d9f3",
   "metadata": {},
   "outputs": [],
   "source": [
    "browser.find_element(By.ID, 'nx_query').send_keys(\"환율\")"
   ]
  },
  {
   "cell_type": "code",
   "execution_count": 17,
   "id": "7f95461e",
   "metadata": {},
   "outputs": [],
   "source": [
    "browser.find_element(By.XPATH, '//*[@id=\"nx_search_form\"]/fieldset/button').click()"
   ]
  },
  {
   "cell_type": "code",
   "execution_count": 18,
   "id": "e47d14e9",
   "metadata": {},
   "outputs": [
    {
     "data": {
      "text/plain": [
       "'1,418.70'"
      ]
     },
     "execution_count": 18,
     "metadata": {},
     "output_type": "execute_result"
    }
   ],
   "source": [
    "browser.find_element(By.XPATH, '//*[@id=\"_cs_foreigninfo\"]/div/div[2]/div/div[1]/div[1]/div[1]/div[1]/h3/a/span[2]/strong').text"
   ]
  },
  {
   "cell_type": "markdown",
   "id": "9c4e49c0",
   "metadata": {},
   "source": [
    "## 구글 뉴스 크롤링"
   ]
  },
  {
   "cell_type": "markdown",
   "id": "39b61058",
   "metadata": {},
   "source": [
    "### 단건 뉴스 크롤링"
   ]
  },
  {
   "cell_type": "code",
   "execution_count": 34,
   "id": "d5b2e089",
   "metadata": {},
   "outputs": [],
   "source": [
    "browser.get('https://www.google.com/search?q=%EC%9E%90%EB%8F%99%ED%99%94&source=lnms&tbm=nws&sa=X&ved=2ahUKEwi0ivrzjYP7AhVMyGEKHSYHAY8Q_AUoAnoECAIQBA&biw=990&bih=534&dpr=1.25')"
   ]
  },
  {
   "cell_type": "code",
   "execution_count": 35,
   "id": "aab22ff8",
   "metadata": {},
   "outputs": [
    {
     "data": {
      "text/plain": [
       "'[2022 방화벽 정책관리 리포트] 자동화·모듈화·커스터마이징, 3가지 키워드로 시장 공략'"
      ]
     },
     "execution_count": 35,
     "metadata": {},
     "output_type": "execute_result"
    }
   ],
   "source": [
    "browser.find_element(By.CLASS_NAME, 'mCBkyc').text"
   ]
  },
  {
   "cell_type": "code",
   "execution_count": 36,
   "id": "3ec2db27",
   "metadata": {},
   "outputs": [
    {
     "data": {
      "text/plain": [
       "'최근 방화벽 정책관리 솔루션에 관심이 모아지고 있다. 방화벽 정책관리 솔루션은 기업 내부에서 수립한 방화벽 정책을 자동으로 적용해주고,...'"
      ]
     },
     "execution_count": 36,
     "metadata": {},
     "output_type": "execute_result"
    }
   ],
   "source": [
    "browser.find_element(By.CLASS_NAME, 'GI74Re').text"
   ]
  },
  {
   "cell_type": "code",
   "execution_count": 37,
   "id": "6eb0e0a7",
   "metadata": {},
   "outputs": [
    {
     "data": {
      "text/plain": [
       "'http://www.boannews.com/media/view.asp?idx=111134'"
      ]
     },
     "execution_count": 37,
     "metadata": {},
     "output_type": "execute_result"
    }
   ],
   "source": [
    "browser.find_element(By.CLASS_NAME, 'WlydOe').get_attribute('href')"
   ]
  },
  {
   "cell_type": "markdown",
   "id": "d997e58d",
   "metadata": {},
   "source": [
    "### 1페이지 뉴스 크롤링(10개)"
   ]
  },
  {
   "cell_type": "code",
   "execution_count": 39,
   "id": "f29986bd",
   "metadata": {},
   "outputs": [
    {
     "data": {
      "text/plain": [
       "['[2022 방화벽 정책관리 리포트] 자동화·모듈화·커스터마이징 3가지 키워드로 시장 공략',\n",
       " \"NH투자證 '지능형 자동화기기' 도입…수수료 한시 면제\",\n",
       " \"제조공정 자동화 · 해외안전성 시험 인증… 수소탱크 시장 '진격'\",\n",
       " '[단신]한화생명 보험 청약 자동화 솔루션 특허 취득 外',\n",
       " \"한화그룹 공장 자동화 설비 전문 계열사 '한화컨버전스'로 새출발…재생에너지 플랫폼 진출\",\n",
       " \"[사진] 자동화 시설 자랑하는 中 '26층 돼지 사육 빌딩'\",\n",
       " '경남은행 CU편의점과 자동화기기 제휴…고객 접근성 확대',\n",
       " \"NH투자證 '지능형 자동화기기' 도입…수수료 한시 면제\",\n",
       " '일본 도쿄도립대 편의점 화장실 자동화 로봇 개발',\n",
       " \"'2022 국제 공구 및 스마트 용접 자동화전' 18일 개막\"]"
      ]
     },
     "execution_count": 39,
     "metadata": {},
     "output_type": "execute_result"
    }
   ],
   "source": [
    "titles = browser.find_elements(By.CLASS_NAME, 'mCBkyc')\n",
    "\n",
    "title = []\n",
    "for i in titles:\n",
    "    temp_title = i.text\n",
    "    temp_title = temp_title.replace(\",\", \"\")\n",
    "    title.append(temp_title)\n",
    "\n",
    "title"
   ]
  },
  {
   "cell_type": "code",
   "execution_count": 42,
   "id": "7c6945c8",
   "metadata": {},
   "outputs": [
    {
     "data": {
      "text/plain": [
       "['최근 방화벽 정책관리 솔루션에 관심이 모아지고 있다. 방화벽 정책관리 솔루션은 기업 내부에서 수립한 방화벽 정책을 자동으로 적용해주고...',\n",
       " '[서울=뉴시스] 박은비 기자 = NH투자증권은 고객의 최적화된 업무 처리를 위해 솔루션 지능형 자동화기기(STM)를 도입했다고 31일 밝혔다.',\n",
       " '인천주안공단 롯데케미칼 수소탱크 파일럿(시험생산) 공장에서 관계자가 공정 자동화 기술을 설명하고 있다. 롯데그룹 제공...',\n",
       " \"한화생명 보험 청약 자동화 솔루션 특허 취득 한화생명의 보험 설계 및 청약 업무 자동화 기술인 '청약 자동화 솔루션'이 최근 특허청으로부터...\",\n",
       " \"한화에너지 자회사인 ㈜에스아이티가 사명을 '한화컨버전스' 로 변경하고 재생에너지 플랫폼사업을 추진한다고 1일 밝혔다. 한화컨버전스는 새 사명에...\",\n",
       " '[신화/내외뉴스통신] 이송옥 기자26층짜리 돼지 사육 빌딩 내부 돈사를 지난 28일 촬영했다. 후베이(湖北)성 어저우(鄂州)시에 26층짜리 돼지 사육...',\n",
       " \"(경남=뉴스1) 김대광 기자 = BNK경남은행은 한국전자금융㈜과 'CU편의점 자동화기기(CD/ATM) 제휴'를 맺었다고 1일 밝혔다.이번 제휴로 BNK경남은행...\",\n",
       " 'NH투자증권은 고객의 최적화된 업무 처리를 위해 솔루션 지능형 자동화기기(STM)를 도입했다고 31일 밝혔다. 은행에서 활용하던 STM을 증권사 센터에...',\n",
       " '일본 도쿄도립대 연구팀이 편의점과 공공시설 내 화장실 청소를 자동화할 수 있는 로봇시스템을 개발했다고 테크엑스플로어가 28일(현지 시각) 보도...',\n",
       " \"국내외 최첨단 공구 및 스마트 용접 자동화 기기 등을 한눈에 볼 수 ... 자동화전'(TOOL TECH + SMART WELDING AUTOMATION FAIR)이 이달 18일부터 21...\"]"
      ]
     },
     "execution_count": 42,
     "metadata": {},
     "output_type": "execute_result"
    }
   ],
   "source": [
    "contents = browser.find_elements(By.CLASS_NAME, 'GI74Re')\n",
    "\n",
    "content = []\n",
    "for i in contents:\n",
    "    temp_content = i.text\n",
    "    temp_content = temp_content.replace(\",\", \"\")\n",
    "    content.append(temp_content)\n",
    "\n",
    "content"
   ]
  },
  {
   "cell_type": "code",
   "execution_count": 43,
   "id": "7c3f3d60",
   "metadata": {},
   "outputs": [
    {
     "name": "stdout",
     "output_type": "stream",
     "text": [
      "제목 : [2022 방화벽 정책관리 리포트] 자동화·모듈화·커스터마이징 3가지 키워드로 시장 공략\n",
      "내용 : 최근 방화벽 정책관리 솔루션에 관심이 모아지고 있다. 방화벽 정책관리 솔루션은 기업 내부에서 수립한 방화벽 정책을 자동으로 적용해주고...\n",
      "링크 : http://www.boannews.com/media/view.asp?idx=111134\n"
     ]
    }
   ],
   "source": [
    "links = browser.find_elements(By.CLASS_NAME, 'WlydOe')\n",
    "\n",
    "link = []\n",
    "for i in links:\n",
    "    link.append(i.get_attribute('href'))\n",
    "    \n",
    "print(\"제목 : \" + title[0])\n",
    "print(\"내용 : \" + content[0])\n",
    "print(\"링크 : \" + link[0])"
   ]
  },
  {
   "cell_type": "code",
   "execution_count": 44,
   "id": "3f86cd15",
   "metadata": {},
   "outputs": [],
   "source": [
    "file = open(\"test.csv\", \"a\", encoding=\"UTF-8-sig\")\n",
    "file. write(\"{}, {}, {} \\n\".format(\"제목\", \"내용\", \"링크\"))\n",
    "file. write(\"{}, {}, {} \\n\".format(\"제목2\", \"내용2\", \"링크2\"))\n",
    "file.close()"
   ]
  },
  {
   "cell_type": "code",
   "execution_count": 45,
   "id": "6f106548",
   "metadata": {},
   "outputs": [],
   "source": [
    "file = open(\"google_news.csv\", \"a\", encoding=\"UTF-8-sig\")\n",
    "\n",
    "for i in range(len(title)):\n",
    "    file.write(\"{}, {}, {} \\n\".format(title[i], content[i], link[i]))\n",
    "\n",
    "file.close()"
   ]
  },
  {
   "cell_type": "markdown",
   "id": "4445a8be",
   "metadata": {},
   "source": [
    "# 네이버 환율 데이터 크롤링"
   ]
  },
  {
   "cell_type": "code",
   "execution_count": 57,
   "id": "e5aa44f3",
   "metadata": {},
   "outputs": [],
   "source": [
    "browser.get(\"https://search.naver.com/search.naver?where=nexearch&sm=top_hty&fbm=0&ie=utf8&query=%EB%84%A4%EC%9D%B4%EB%B2%84%ED%99%98%EC%9C%A8\")"
   ]
  },
  {
   "cell_type": "code",
   "execution_count": 64,
   "id": "5e3d848b",
   "metadata": {},
   "outputs": [
    {
     "name": "stdout",
     "output_type": "stream",
     "text": [
      "통화명\n",
      "미국 USD\n",
      "일본 JPY 100\n",
      "유럽연합 EUR\n",
      "중국 CNY\n",
      "영국 GBP\n",
      "호주 AUD\n",
      "캐나다 CAD\n",
      "뉴질랜드 NZD\n"
     ]
    }
   ],
   "source": [
    "table = browser.find_element(By.CLASS_NAME, 'rate_table_bx')\n",
    "rows = table.find_elements(By.TAG_NAME, 'tr')\n",
    "\n",
    "for row in rows:\n",
    "    country_name = row.find_element(By.TAG_NAME, 'th').text\n",
    "    print(country_name)"
   ]
  },
  {
   "cell_type": "markdown",
   "id": "5a14afdd",
   "metadata": {},
   "source": [
    "## 표 크롤링 하고 엑셀로 저장, 뉴스 10페이지까지 크롤링하기"
   ]
  }
 ],
 "metadata": {
  "kernelspec": {
   "display_name": "Python 3 (ipykernel)",
   "language": "python",
   "name": "python3"
  },
  "language_info": {
   "codemirror_mode": {
    "name": "ipython",
    "version": 3
   },
   "file_extension": ".py",
   "mimetype": "text/x-python",
   "name": "python",
   "nbconvert_exporter": "python",
   "pygments_lexer": "ipython3",
   "version": "3.9.13"
  }
 },
 "nbformat": 4,
 "nbformat_minor": 5
}
