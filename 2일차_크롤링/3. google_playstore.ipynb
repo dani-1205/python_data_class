{
 "cells": [
  {
   "cell_type": "markdown",
   "id": "63d33bae",
   "metadata": {},
   "source": [
    "## 구글 플레이 스토어 댓글 수집기\n",
    "- 내가 검색한 앱의 댓글을 수집합니다. (최소 스크롤 3번을 내립니다.)"
   ]
  },
  {
   "cell_type": "code",
   "execution_count": 1,
   "id": "16aa503c",
   "metadata": {},
   "outputs": [],
   "source": [
    "from selenium import webdriver\n",
    "from selenium.webdriver.common.by import By"
   ]
  },
  {
   "cell_type": "code",
   "execution_count": 3,
   "id": "e1882214",
   "metadata": {},
   "outputs": [],
   "source": [
    "browser = webdriver.Chrome()\n",
    "browser.get(\"https://www.google.com\")"
   ]
  },
  {
   "cell_type": "code",
   "execution_count": 5,
   "id": "0df7a952",
   "metadata": {},
   "outputs": [
    {
     "name": "stdout",
     "output_type": "stream",
     "text": [
      "검색하고자 하는 앱 이름을 입력하세요.당근마켓\n",
      "https://play.google.com/store/search?q=당근마켓&c=apps\n"
     ]
    }
   ],
   "source": [
    "search_word = input(\"검색하고자 하는 앱 이름을 입력하세요.\")\n",
    "\n",
    "url = 'https://play.google.com/store/search?q={}&c=apps'\n",
    "\n",
    "final_url = url.format(search_word)\n",
    "print(final_url)\n",
    "\n",
    "# browser.get(\"\")"
   ]
  },
  {
   "cell_type": "code",
   "execution_count": null,
   "id": "f76f734d",
   "metadata": {},
   "outputs": [],
   "source": []
  }
 ],
 "metadata": {
  "kernelspec": {
   "display_name": "Python 3 (ipykernel)",
   "language": "python",
   "name": "python3"
  },
  "language_info": {
   "codemirror_mode": {
    "name": "ipython",
    "version": 3
   },
   "file_extension": ".py",
   "mimetype": "text/x-python",
   "name": "python",
   "nbconvert_exporter": "python",
   "pygments_lexer": "ipython3",
   "version": "3.9.13"
  }
 },
 "nbformat": 4,
 "nbformat_minor": 5
}
