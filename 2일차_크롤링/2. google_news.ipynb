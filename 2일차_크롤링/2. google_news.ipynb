{
 "cells": [
  {
   "cell_type": "markdown",
   "id": "1ed1cbf5",
   "metadata": {},
   "source": [
    "# 구글 뉴스 크롤링"
   ]
  },
  {
   "cell_type": "markdown",
   "id": "16c7c7ca",
   "metadata": {},
   "source": [
    "## 단건 뉴스 크롤링"
   ]
  },
  {
   "cell_type": "code",
   "execution_count": 12,
   "id": "0595717d",
   "metadata": {},
   "outputs": [],
   "source": [
    "from selenium import webdriver"
   ]
  },
  {
   "cell_type": "code",
   "execution_count": 19,
   "id": "39941d27",
   "metadata": {},
   "outputs": [],
   "source": [
    "from selenium.webdriver.common.by import By"
   ]
  },
  {
   "cell_type": "code",
   "execution_count": 20,
   "id": "2f5c273c",
   "metadata": {},
   "outputs": [],
   "source": [
    "browser = webdriver.Chrome()\n",
    "browser.get(\"https://www.google.com\")"
   ]
  },
  {
   "cell_type": "code",
   "execution_count": 21,
   "id": "7a351f95",
   "metadata": {},
   "outputs": [],
   "source": [
    "browser.get('https://www.google.com/search?q=%EC%9E%90%EB%8F%99%ED%99%94&source=lnms&tbm=nws&sa=X&ved=2ahUKEwi0ivrzjYP7AhVMyGEKHSYHAY8Q_AUoAnoECAIQBA&biw=990&bih=534&dpr=1.25')"
   ]
  },
  {
   "cell_type": "code",
   "execution_count": 23,
   "id": "1a8f55a9",
   "metadata": {},
   "outputs": [
    {
     "data": {
      "text/plain": [
       "\"제조공정 자동화 · 해외안전성 시험 인증… 수소탱크 시장 '진격'\""
      ]
     },
     "execution_count": 23,
     "metadata": {},
     "output_type": "execute_result"
    }
   ],
   "source": [
    "browser.find_element(By.CLASS_NAME, 'mCBkyc').text"
   ]
  },
  {
   "cell_type": "code",
   "execution_count": 24,
   "id": "4e816c8a",
   "metadata": {},
   "outputs": [
    {
     "data": {
      "text/plain": [
       "'인천주안공단 롯데케미칼 수소탱크 파일럿(시험생산) 공장에서 관계자가 공정 자동화 기술을 설명하고 있다. 롯데그룹 제공...'"
      ]
     },
     "execution_count": 24,
     "metadata": {},
     "output_type": "execute_result"
    }
   ],
   "source": [
    "browser.find_element(By.CLASS_NAME, 'GI74Re').text"
   ]
  },
  {
   "cell_type": "code",
   "execution_count": 25,
   "id": "9b4aed3d",
   "metadata": {},
   "outputs": [
    {
     "data": {
      "text/plain": [
       "'http://www.munhwa.com/news/view.html?no=2022110101034707205001'"
      ]
     },
     "execution_count": 25,
     "metadata": {},
     "output_type": "execute_result"
    }
   ],
   "source": [
    "browser.find_element(By.CLASS_NAME, 'WlydOe').get_attribute('href')"
   ]
  },
  {
   "cell_type": "markdown",
   "id": "3b03a8c2",
   "metadata": {},
   "source": [
    "## 1페이지 뉴스 크롤링 (10개)"
   ]
  },
  {
   "cell_type": "code",
   "execution_count": 26,
   "id": "8f5c307f",
   "metadata": {},
   "outputs": [
    {
     "data": {
      "text/plain": [
       "[\"제조공정 자동화 · 해외안전성 시험 인증… 수소탱크 시장 '진격'\",\n",
       " '[단신]한화생명 보험 청약 자동화 솔루션 특허 취득 外',\n",
       " '롯데 오카도 손잡았다…자동화물류 1조원 투자',\n",
       " \"한화그룹 공장 자동화 설비 전문 계열사 '한화컨버전스'로 새출발…재생에너지 플랫폼 진출\",\n",
       " '경남은행 CU편의점과 자동화기기 제휴…고객 접근성 확대',\n",
       " '롯데 오카도 손잡았다…자동화물류 1조원 투자',\n",
       " '경남은행 CU편의점과 자동화기기 제휴…고객 접근성 확대',\n",
       " '[2022 방화벽 정책관리 리포트] 자동화·모듈화·커스터마이징 3 ...',\n",
       " \"'2022 국제 공구 및 스마트 용접 자동화전' 18일 개막\",\n",
       " '일본 도쿄도립대 편의점 화장실 자동화 로봇 개발']"
      ]
     },
     "execution_count": 26,
     "metadata": {},
     "output_type": "execute_result"
    }
   ],
   "source": [
    "titles = browser.find_elements(By.CLASS_NAME, 'mCBkyc')\n",
    "\n",
    "title = []\n",
    "for i in titles:\n",
    "    temp_title = i.text\n",
    "    temp_title = temp_title.replace(\",\", \"\")\n",
    "    title.append(temp_title)\n",
    "\n",
    "title"
   ]
  },
  {
   "cell_type": "code",
   "execution_count": 27,
   "id": "5ad6dca3",
   "metadata": {},
   "outputs": [
    {
     "data": {
      "text/plain": [
       "['인천주안공단 롯데케미칼 수소탱크 파일럿(시험생산) 공장에서 관계자가 공정 자동화 기술을 설명하고 있다. 롯데그룹 제공...',\n",
       " \"한화생명 보험 청약 자동화 솔루션 특허 취득 한화생명의 보험 설계 및 청약 업무 자동화 기술인 '청약 자동화 솔루션'이 최근 특허청으로부터...\",\n",
       " '롯데가 영국 기반 글로벌 리테일테크 기업인 오카도(Ocado)와 손잡고 국내 온라인 그로서리(식품) 시장을 정조준한다. 2030년까지 1조원을 들여 오카...',\n",
       " \"한화에너지 자회사인 ㈜에스아이티가 사명을 '한화컨버전스' 로 변경하고 재생에너지 플랫폼사업을 추진한다고 1일 밝혔다. 한화컨버전스는 새 사명에...\",\n",
       " \"BNK경남은행은 한국전자금융㈜과 'CU편의점 자동화기기(CD/ATM) 제휴'를 맺었다고 1일 밝혔다. 이번 제휴로 BNK경남은행 고객들은 전국 CU편의점(약...\",\n",
       " '롯데가 영국 기반 글로벌 리테일테크 기업인 오카도(Ocado)와 손잡고 국내 온라인 그로서리(식품) 시장을 정조준한다. 2030년까지 1조원을 들여 오카...',\n",
       " \"(경남=뉴스1) 김대광 기자 = BNK경남은행은 한국전자금융㈜과 'CU편의점 자동화기기(CD/ATM) 제휴'를 맺었다고 1일 밝혔다.이번 제휴로 BNK경남은행...\",\n",
       " '효율성과 편의성에는 자동화 기술이 깃들어 있다. 이에 따라 방화벽 정책관리 솔루션 공급 기업도 기업의 니즈에 맞춰 보안성과 편의성을 높인 솔루션...',\n",
       " \"국내외 최첨단 공구 및 스마트 용접 자동화 기기 등을 한눈에 볼 수 ... 자동화전'(TOOL TECH + SMART WELDING AUTOMATION FAIR)이 이달 18일부터 21...\",\n",
       " '일본 도쿄도립대 연구팀이 편의점과 공공시설 내 화장실 청소를 자동화할 수 있는 로봇시스템을 개발했다고 테크엑스플로어가 28일(현지 시각) 보도...']"
      ]
     },
     "execution_count": 27,
     "metadata": {},
     "output_type": "execute_result"
    }
   ],
   "source": [
    "contents = browser.find_elements(By.CLASS_NAME, 'GI74Re')\n",
    "\n",
    "content = []\n",
    "for i in contents:\n",
    "    temp_content = i.text\n",
    "    temp_content = temp_content.replace(\",\", \"\")\n",
    "    content.append(temp_content)\n",
    "\n",
    "content"
   ]
  },
  {
   "cell_type": "code",
   "execution_count": 28,
   "id": "8201dd20",
   "metadata": {},
   "outputs": [
    {
     "name": "stdout",
     "output_type": "stream",
     "text": [
      "제목 : 제조공정 자동화 · 해외안전성 시험 인증… 수소탱크 시장 '진격'\n",
      "내용 : 인천주안공단 롯데케미칼 수소탱크 파일럿(시험생산) 공장에서 관계자가 공정 자동화 기술을 설명하고 있다. 롯데그룹 제공...\n",
      "링크 : http://www.munhwa.com/news/view.html?no=2022110101034707205001\n"
     ]
    }
   ],
   "source": [
    "links = browser.find_elements(By.CLASS_NAME, 'WlydOe')\n",
    "\n",
    "link = []\n",
    "for i in links:\n",
    "    link.append(i.get_attribute('href'))\n",
    "    \n",
    "print(\"제목 : \" + title[0])\n",
    "print(\"내용 : \" + content[0])\n",
    "print(\"링크 : \" + link[0])"
   ]
  },
  {
   "cell_type": "code",
   "execution_count": 31,
   "id": "c52804c6",
   "metadata": {},
   "outputs": [],
   "source": [
    "file = open(\"test.csv\", \"a\", encoding=\"UTF-8-sig\")\n",
    "file. write(\"{}, {}, {} \\n\".format(\"제목\", \"내용\", \"링크\"))\n",
    "file. write(\"{}, {}, {} \\n\".format(\"제목2\", \"내용2\", \"링크2\"))\n",
    "file.close()"
   ]
  },
  {
   "cell_type": "code",
   "execution_count": 32,
   "id": "8393a83a",
   "metadata": {},
   "outputs": [],
   "source": [
    "file = open(\"google_news.csv\", \"a\", encoding=\"UTF-8-sig\")\n",
    "\n",
    "for i in range(len(title)):\n",
    "    file.write(\"{}, {}, {} \\n\".format(title[i], content[i], link[i]))\n",
    "\n",
    "file.close()"
   ]
  },
  {
   "cell_type": "markdown",
   "id": "6a40226a",
   "metadata": {},
   "source": [
    "## 10페이지까지 구글 뉴스 크롤링"
   ]
  },
  {
   "cell_type": "code",
   "execution_count": 9,
   "id": "38f69e3a",
   "metadata": {},
   "outputs": [],
   "source": [
    "browser = webdriver.Chrome()\n",
    "browser.get(\"https://www.google.com\")"
   ]
  },
  {
   "cell_type": "code",
   "execution_count": 11,
   "id": "23b9b706",
   "metadata": {},
   "outputs": [],
   "source": [
    "search_word = input(\"크롤링하고자 하는 단어를 입력하세요.\")\n",
    "page = input(\"크롤링하고자 하는 페이지 수를 입력하세요.\")\n",
    "\n",
    "browser.get(\"https://www.google.com/search?q={}&tbm=nws&sxsrf=ALiCzsbAGNfEKJku6_KOu7TfqQkGDqrKfw:1667293905693&source=lnt&tbs=qdr:w&sa=X&ved=2ahUKEwiVnPDn0Yz7AhVPbd4KHdxcBZsQpwV6BAgDEBs&biw=1014&bih=640&dpr=1.25\").format()"
   ]
  },
  {
   "cell_type": "markdown",
   "id": "cb0adc03",
   "metadata": {},
   "source": [
    "### 21:12"
   ]
  }
 ],
 "metadata": {
  "kernelspec": {
   "display_name": "Python 3 (ipykernel)",
   "language": "python",
   "name": "python3"
  },
  "language_info": {
   "codemirror_mode": {
    "name": "ipython",
    "version": 3
   },
   "file_extension": ".py",
   "mimetype": "text/x-python",
   "name": "python",
   "nbconvert_exporter": "python",
   "pygments_lexer": "ipython3",
   "version": "3.9.13"
  }
 },
 "nbformat": 4,
 "nbformat_minor": 5
}
