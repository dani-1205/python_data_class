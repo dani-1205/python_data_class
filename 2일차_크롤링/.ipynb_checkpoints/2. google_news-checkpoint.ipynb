{
 "cells": [
  {
   "cell_type": "markdown",
   "id": "1ed1cbf5",
   "metadata": {},
   "source": [
    "# 구글 뉴스 크롤링"
   ]
  },
  {
   "cell_type": "markdown",
   "id": "16c7c7ca",
   "metadata": {},
   "source": [
    "## 단건 뉴스 크롤링"
   ]
  },
  {
   "cell_type": "code",
   "execution_count": 1,
   "id": "0595717d",
   "metadata": {},
   "outputs": [],
   "source": [
    "from selenium import webdriver"
   ]
  },
  {
   "cell_type": "code",
   "execution_count": 2,
   "id": "39941d27",
   "metadata": {},
   "outputs": [],
   "source": [
    "from selenium.webdriver.common.by import By"
   ]
  },
  {
   "cell_type": "code",
   "execution_count": 3,
   "id": "2f5c273c",
   "metadata": {},
   "outputs": [],
   "source": [
    "browser = webdriver.Chrome()\n",
    "browser.get(\"https://www.google.com\")"
   ]
  },
  {
   "cell_type": "code",
   "execution_count": 4,
   "id": "7a351f95",
   "metadata": {},
   "outputs": [],
   "source": [
    "browser.get('https://www.google.com/search?q=%EC%9E%90%EB%8F%99%ED%99%94&source=lnms&tbm=nws&sa=X&ved=2ahUKEwi0ivrzjYP7AhVMyGEKHSYHAY8Q_AUoAnoECAIQBA&biw=990&bih=534&dpr=1.25')"
   ]
  },
  {
   "cell_type": "code",
   "execution_count": 5,
   "id": "1a8f55a9",
   "metadata": {},
   "outputs": [
    {
     "data": {
      "text/plain": [
       "'[김민수의 잠금해제] 반도체·2차전지 맞춤 자동화를 설계하는 이 종목은?'"
      ]
     },
     "execution_count": 5,
     "metadata": {},
     "output_type": "execute_result"
    }
   ],
   "source": [
    "browser.find_element(By.CLASS_NAME, 'mCBkyc').text"
   ]
  },
  {
   "cell_type": "code",
   "execution_count": 6,
   "id": "4e816c8a",
   "metadata": {},
   "outputs": [
    {
     "data": {
      "text/plain": [
       "'잠겨있는 내 계좌의 수익률을 해제하라!시장이 재평가 중인 시세의 주인공과 앞으로 재평가가 기대되는 시세의 주인공을 한 번에 만날 수 있는 시간.'"
      ]
     },
     "execution_count": 6,
     "metadata": {},
     "output_type": "execute_result"
    }
   ],
   "source": [
    "browser.find_element(By.CLASS_NAME, 'GI74Re').text"
   ]
  },
  {
   "cell_type": "code",
   "execution_count": 7,
   "id": "9b4aed3d",
   "metadata": {},
   "outputs": [
    {
     "data": {
      "text/plain": [
       "'https://news.mt.co.kr/mtview.php?no=2022110213167090248'"
      ]
     },
     "execution_count": 7,
     "metadata": {},
     "output_type": "execute_result"
    }
   ],
   "source": [
    "browser.find_element(By.CLASS_NAME, 'WlydOe').get_attribute('href')"
   ]
  },
  {
   "cell_type": "markdown",
   "id": "3b03a8c2",
   "metadata": {},
   "source": [
    "## 1페이지 뉴스 크롤링 (10개)"
   ]
  },
  {
   "cell_type": "code",
   "execution_count": 8,
   "id": "8f5c307f",
   "metadata": {},
   "outputs": [
    {
     "data": {
      "text/plain": [
       "['[김민수의 잠금해제] 반도체·2차전지 맞춤 자동화를 설계하는 이 종목은?',\n",
       " '[단신]한화생명 보험 청약 자동화 솔루션 특허 취득 外',\n",
       " \"제조공정 자동화 · 해외안전성 시험 인증… 수소탱크 시장 '진격'\",\n",
       " 'CDRI 화장품 인증 자동화 플랫폼 사업 본궤도… “K-뷰티테크 시장 선도”',\n",
       " '롯데 오카도 손잡았다…자동화물류 1조원 투자',\n",
       " \"김상현 부회장이 1조 투입한 '오카도' 관전포인트는… '자동화 물류'\",\n",
       " '[김민수의 잠금해제] 반도체·2차전지 맞춤 자동화를 설계하는 이 종목은?',\n",
       " '경남은행 CU편의점과 자동화기기 제휴…고객 접근성 확대',\n",
       " '[2022 방화벽 정책관리 리포트] 자동화·모듈화·커스터마이징 3 ...',\n",
       " '[기고] 서버 자동화 통한 디지털 혁신 경쟁 우위 확보']"
      ]
     },
     "execution_count": 8,
     "metadata": {},
     "output_type": "execute_result"
    }
   ],
   "source": [
    "titles = browser.find_elements(By.CLASS_NAME, 'mCBkyc')\n",
    "\n",
    "title = []\n",
    "for i in titles:\n",
    "    temp_title = i.text\n",
    "    temp_title = temp_title.replace(\",\", \"\")\n",
    "    title.append(temp_title)\n",
    "\n",
    "title"
   ]
  },
  {
   "cell_type": "code",
   "execution_count": 9,
   "id": "5ad6dca3",
   "metadata": {},
   "outputs": [
    {
     "data": {
      "text/plain": [
       "['잠겨있는 내 계좌의 수익률을 해제하라!시장이 재평가 중인 시세의 주인공과 앞으로 재평가가 기대되는 시세의 주인공을 한 번에 만날 수 있는 시간.',\n",
       " \"한화생명 보험 청약 자동화 솔루션 특허 취득 한화생명의 보험 설계 및 청약 업무 자동화 기술인 '청약 자동화 솔루션'이 최근 특허청으로부터...\",\n",
       " '인천주안공단 롯데케미칼 수소탱크 파일럿(시험생산) 공장에서 관계자가 공정 자동화 기술을 설명하고 있다. 롯데그룹 제공...',\n",
       " 'CDRI(씨디알아이)가 인공지능(AI) 기반 화장품 산업 플랫폼화를 통해 K-뷰티테크 시장을 선도한다. CDRI는 화장품 해외인증 자동화 솔루션 플랫폼...',\n",
       " '롯데가 영국 기반 글로벌 리테일테크 기업인 오카도(Ocado)와 손잡고 국내 온라인 그로서리(식품) 시장을 정조준한다. 2030년까지 1조원을 들여 오카...',\n",
       " '롯데쇼핑이 영국의 글로벌 리테일테크 기업 오카도(Ocado)와 국내 글로서리 서비스를 위해 손을 잡으면서 향후 온라인 신선식품이 뜨겁게 달아오를...',\n",
       " '잠겨있는 내 계좌의 수익률을 해제하라! 시장이 재평가 중인 시세의 주인공과 앞으로 재평가가 기대되는 시세의 주인공을 한 번에 만날 수 있는 시간.',\n",
       " \"(경남=뉴스1) 김대광 기자 = BNK경남은행은 한국전자금융㈜과 'CU편의점 자동화기기(CD/ATM) 제휴'를 맺었다고 1일 밝혔다.이번 제휴로 BNK경남은행...\",\n",
       " '효율성과 편의성에는 자동화 기술이 깃들어 있다. 이에 따라 방화벽 정책관리 솔루션 공급 기업도 기업의 니즈에 맞춰 보안성과 편의성을 높인 솔루션...',\n",
       " '이와 같은 시스템 관리 비용을 낮추기 위해서는 자동화가 중요하다. IT 부서를 코스트센터(Cost Center)로 간주하는 비즈니스 경영진에게는 비즈니스...']"
      ]
     },
     "execution_count": 9,
     "metadata": {},
     "output_type": "execute_result"
    }
   ],
   "source": [
    "contents = browser.find_elements(By.CLASS_NAME, 'GI74Re')\n",
    "\n",
    "content = []\n",
    "for i in contents:\n",
    "    temp_content = i.text\n",
    "    temp_content = temp_content.replace(\",\", \"\")\n",
    "    content.append(temp_content)\n",
    "\n",
    "content"
   ]
  },
  {
   "cell_type": "code",
   "execution_count": 10,
   "id": "8201dd20",
   "metadata": {},
   "outputs": [
    {
     "name": "stdout",
     "output_type": "stream",
     "text": [
      "제목 : [김민수의 잠금해제] 반도체·2차전지 맞춤 자동화를 설계하는 이 종목은?\n",
      "내용 : 잠겨있는 내 계좌의 수익률을 해제하라!시장이 재평가 중인 시세의 주인공과 앞으로 재평가가 기대되는 시세의 주인공을 한 번에 만날 수 있는 시간.\n",
      "링크 : https://news.mt.co.kr/mtview.php?no=2022110213167090248\n"
     ]
    }
   ],
   "source": [
    "links = browser.find_elements(By.CLASS_NAME, 'WlydOe')\n",
    "\n",
    "link = []\n",
    "for i in links:\n",
    "    link.append(i.get_attribute('href'))\n",
    "    \n",
    "print(\"제목 : \" + title[0])\n",
    "print(\"내용 : \" + content[0])\n",
    "print(\"링크 : \" + link[0])"
   ]
  },
  {
   "cell_type": "code",
   "execution_count": 11,
   "id": "c52804c6",
   "metadata": {},
   "outputs": [],
   "source": [
    "file = open(\"test.csv\", \"a\", encoding=\"UTF-8-sig\")\n",
    "file. write(\"{}, {}, {} \\n\".format(\"제목\", \"내용\", \"링크\"))\n",
    "file. write(\"{}, {}, {} \\n\".format(\"제목2\", \"내용2\", \"링크2\"))\n",
    "file.close()"
   ]
  },
  {
   "cell_type": "code",
   "execution_count": 32,
   "id": "8393a83a",
   "metadata": {},
   "outputs": [],
   "source": [
    "file = open(\"google_news.csv\", \"a\", encoding=\"UTF-8-sig\")\n",
    "\n",
    "for i in range(len(title)):\n",
    "    file.write(\"{}, {}, {} \\n\".format(title[i], content[i], link[i]))\n",
    "\n",
    "file.close()"
   ]
  },
  {
   "cell_type": "markdown",
   "id": "6a40226a",
   "metadata": {},
   "source": [
    "## 10페이지까지 구글 뉴스 크롤링\n",
    "\n",
    "- 목적 : 구글 뉴스를 10페이지까지 긁어오는 것"
   ]
  },
  {
   "cell_type": "code",
   "execution_count": 15,
   "id": "4bfd7d07",
   "metadata": {},
   "outputs": [
    {
     "data": {
      "text/plain": [
       "'이름 : leo, 나이 : 30'"
      ]
     },
     "execution_count": 15,
     "metadata": {},
     "output_type": "execute_result"
    }
   ],
   "source": [
    "word = \"이름 : {}, 나이 : {}\".format(\"leo\", \"30\")\n",
    "word"
   ]
  },
  {
   "cell_type": "code",
   "execution_count": 17,
   "id": "38f69e3a",
   "metadata": {},
   "outputs": [],
   "source": [
    "browser = webdriver.Chrome()\n",
    "browser.get(\"https://www.google.com\")"
   ]
  },
  {
   "cell_type": "code",
   "execution_count": 32,
   "id": "23b9b706",
   "metadata": {},
   "outputs": [
    {
     "name": "stdout",
     "output_type": "stream",
     "text": [
      "크롤링하고자 하는 단어를 입력하세요.날씨\n",
      "크롤링하고자 하는 페이지 수를 입력하세요.3\n",
      "https://www.google.com/search?q=날씨&tbs=qdr:d&tbm=nws&ei=gwliY6bcEcXu2roPgZqz0As&start=0&sa=N&ved=2ahUKEwjmqZ7t6o77AhVFt1YBHQHNDLoQ8tMDegQIARAE&biw=1536&bih=708&dpr=1.25\n",
      "https://www.google.com/search?q=날씨&tbs=qdr:d&tbm=nws&ei=gwliY6bcEcXu2roPgZqz0As&start=10&sa=N&ved=2ahUKEwjmqZ7t6o77AhVFt1YBHQHNDLoQ8tMDegQIARAE&biw=1536&bih=708&dpr=1.25\n",
      "https://www.google.com/search?q=날씨&tbs=qdr:d&tbm=nws&ei=gwliY6bcEcXu2roPgZqz0As&start=20&sa=N&ved=2ahUKEwjmqZ7t6o77AhVFt1YBHQHNDLoQ8tMDegQIARAE&biw=1536&bih=708&dpr=1.25\n"
     ]
    }
   ],
   "source": [
    "search_word = input(\"크롤링하고자 하는 단어를 입력하세요.\")\n",
    "page = int(input(\"크롤링하고자 하는 페이지 수를 입력하세요.\"))\n",
    "\n",
    "url = 'https://www.google.com/search?q={}&tbs=qdr:d&tbm=nws&ei=gwliY6bcEcXu2roPgZqz0As&start={}&sa=N&ved=2ahUKEwjmqZ7t6o77AhVFt1YBHQHNDLoQ8tMDegQIARAE&biw=1536&bih=708&dpr=1.25'\n",
    "\n",
    "for i in range(0, page * 10 ,10):\n",
    "    final_url = url.format(search_word, i)\n",
    "    print(final_url)\n",
    "\n",
    "#1:37:21"
   ]
  },
  {
   "cell_type": "code",
   "execution_count": 26,
   "id": "7d1ff2b6",
   "metadata": {},
   "outputs": [
    {
     "name": "stdout",
     "output_type": "stream",
     "text": [
      "크롤링하고자 하는 페이지 수를 입력하세요.3\n",
      "google.com/page=0\n",
      "google.com/page=10\n",
      "google.com/page=20\n"
     ]
    }
   ],
   "source": [
    "page = int(input(\"크롤링하고자 하는 페이지 수를 입력하세요.\"))\n",
    "for i in range(0, page * 10 ,10):\n",
    "    url = \"google.com/page={}\".format(i)\n",
    "    print(url)"
   ]
  },
  {
   "cell_type": "code",
   "execution_count": null,
   "id": "46390328",
   "metadata": {},
   "outputs": [],
   "source": []
  }
 ],
 "metadata": {
  "kernelspec": {
   "display_name": "Python 3 (ipykernel)",
   "language": "python",
   "name": "python3"
  },
  "language_info": {
   "codemirror_mode": {
    "name": "ipython",
    "version": 3
   },
   "file_extension": ".py",
   "mimetype": "text/x-python",
   "name": "python",
   "nbconvert_exporter": "python",
   "pygments_lexer": "ipython3",
   "version": "3.9.13"
  }
 },
 "nbformat": 4,
 "nbformat_minor": 5
}
