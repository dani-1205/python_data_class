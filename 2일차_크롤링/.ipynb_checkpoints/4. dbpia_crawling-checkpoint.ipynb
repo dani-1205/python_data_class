{
 "cells": [
  {
   "cell_type": "markdown",
   "id": "0866a784",
   "metadata": {},
   "source": [
    "## DBPIA 논문 데이터 크롤링\n",
    "- 기본 페이지 정보 외에 상세 페이지로 접근을 해서 데이터를 가져오는 크롤링 코드"
   ]
  },
  {
   "cell_type": "code",
   "execution_count": 25,
   "id": "e6ec004d",
   "metadata": {},
   "outputs": [],
   "source": [
    "from selenium import webdriver\n",
    "from selenium.webdriver.common.by import By"
   ]
  },
  {
   "cell_type": "code",
   "execution_count": 31,
   "id": "3b6b746a",
   "metadata": {},
   "outputs": [],
   "source": [
    "browser = webdriver.Chrome()\n",
    "browser.get(\"https://www.google.com\")"
   ]
  },
  {
   "cell_type": "code",
   "execution_count": 32,
   "id": "3da29981",
   "metadata": {},
   "outputs": [
    {
     "name": "stdout",
     "output_type": "stream",
     "text": [
      "검색하시고자 하는 논문의 제목을 입력해 주세요.인공지능\n"
     ]
    }
   ],
   "source": [
    "search_word = input(\"검색하시고자 하는 논문의 제목을 입력해 주세요.\")\n",
    "\n",
    "url = 'https://www.dbpia.co.kr/search/topSearch?startCount=0&collection=ALL&range=A&searchField=ALL&sort=RANK&query={}&srchOption=*&includeAr=false'\n",
    "final_url = url.format(search_word)\n",
    "\n",
    "browser.get(final_url)"
   ]
  },
  {
   "cell_type": "code",
   "execution_count": 33,
   "id": "22b40b80",
   "metadata": {},
   "outputs": [],
   "source": [
    "import time\n",
    "\n",
    "for i in range(1, 11):\n",
    "    xpath = '//*[@id=\"pageList\"]/a[{}]'.format(str(i))\n",
    "    browser.find_element(By.XPATH, xpath).click()\n",
    "    time.sleep(5)"
   ]
  },
  {
   "cell_type": "code",
   "execution_count": 34,
   "id": "9d11fd8d",
   "metadata": {},
   "outputs": [
    {
     "data": {
      "text/plain": [
       "'https://www.dbpia.co.kr/journal/articleDetail?nodeId=NODE11077878'"
      ]
     },
     "execution_count": 34,
     "metadata": {},
     "output_type": "execute_result"
    }
   ],
   "source": [
    "browser.find_element(By.CLASS_NAME, 'thesis__link').get_attribute('href')"
   ]
  },
  {
   "cell_type": "code",
   "execution_count": 46,
   "id": "3a4c05f0",
   "metadata": {},
   "outputs": [
    {
     "name": "stdout",
     "output_type": "stream",
     "text": [
      "['https://www.dbpia.co.kr/search/topSearch?startCount=0&collection=ALL&range=A&searchField=ALL&sort=RANK&query=%EC%9D%B8%EA%B3%B5%EC%A7%80%EB%8A%A5&srchOption=*&includeAr=false#', 'https://www.dbpia.co.kr/journal/articleDetail?nodeId=NODE11139855', 'https://www.dbpia.co.kr/journal/articleDetail?nodeId=NODE11149590', 'https://www.dbpia.co.kr/journal/articleDetail?nodeId=NODE11149435', 'https://www.dbpia.co.kr/journal/articleDetail?nodeId=NODE11150004', 'https://www.dbpia.co.kr/journal/articleDetail?nodeId=NODE11138506', 'https://www.dbpia.co.kr/journal/articleDetail?nodeId=NODE11144464', 'https://www.dbpia.co.kr/journal/articleDetail?nodeId=NODE11139397', 'https://www.dbpia.co.kr/journal/articleDetail?nodeId=NODE11140220', 'https://www.dbpia.co.kr/journal/articleDetail?nodeId=NODE11136896', 'https://www.dbpia.co.kr/journal/articleDetail?nodeId=NODE11143603', 'https://www.dbpia.co.kr/journal/articleDetail?nodeId=NODE11149401', 'https://www.dbpia.co.kr/journal/articleDetail?nodeId=NODE11140186', 'https://www.dbpia.co.kr/journal/articleDetail?nodeId=NODE11143234', 'https://www.dbpia.co.kr/journal/articleDetail?nodeId=NODE11138316', 'https://www.dbpia.co.kr/journal/articleDetail?nodeId=NODE11139981', 'https://www.dbpia.co.kr/journal/articleDetail?nodeId=NODE11139969', 'https://www.dbpia.co.kr/journal/articleDetail?nodeId=NODE11148064', 'https://www.dbpia.co.kr/journal/articleDetail?nodeId=NODE11140185', 'https://www.dbpia.co.kr/journal/articleDetail?nodeId=NODE11143185']\n"
     ]
    }
   ],
   "source": [
    "import time\n",
    "\n",
    "containers = browser.find_elements(By.CLASS_NAME, 'thesis__summary')\n",
    "\n",
    "link_list = []\n",
    "\n",
    "for container in containers:\n",
    "    link = container.find_element(By.CLASS_NAME, 'thesis__link').get_attribute('href')\n",
    "    link_list.append(link)\n",
    "    \n",
    "print(link_list)\n",
    "\n",
    "content_list = []\n",
    "\n",
    "for link in link_list:\n",
    "    browser.get(link)\n",
    "    time.sleep(2)\n",
    "    \n",
    "    try:\n",
    "        content = browser.find_element(By.CLASS_NAME, 'abstractTxt').text \n",
    "    except:\n",
    "        content = \"none\"\n",
    "        \n",
    "    content_list.append(content)"
   ]
  },
  {
   "cell_type": "code",
   "execution_count": 48,
   "id": "534d7479",
   "metadata": {},
   "outputs": [],
   "source": [
    "links = browser.find_elements(By.CLASS_NAME, 'thesis__link')\n",
    "\n",
    "for link in links:\n",
    "    print(link.get_attribute('href'))\n",
    "    "
   ]
  },
  {
   "cell_type": "code",
   "execution_count": null,
   "id": "6a6eedcd",
   "metadata": {},
   "outputs": [],
   "source": []
  }
 ],
 "metadata": {
  "kernelspec": {
   "display_name": "Python 3 (ipykernel)",
   "language": "python",
   "name": "python3"
  },
  "language_info": {
   "codemirror_mode": {
    "name": "ipython",
    "version": 3
   },
   "file_extension": ".py",
   "mimetype": "text/x-python",
   "name": "python",
   "nbconvert_exporter": "python",
   "pygments_lexer": "ipython3",
   "version": "3.9.13"
  }
 },
 "nbformat": 4,
 "nbformat_minor": 5
}
