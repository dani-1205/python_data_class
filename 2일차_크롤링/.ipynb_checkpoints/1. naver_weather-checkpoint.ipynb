{
 "cells": [
  {
   "cell_type": "markdown",
   "id": "63e2cd0f",
   "metadata": {},
   "source": [
    "# 크롤링 기초\n",
    "## 네이버 날씨 정보 가져오기"
   ]
  },
  {
   "cell_type": "code",
   "execution_count": 78,
   "id": "3e966ba8",
   "metadata": {},
   "outputs": [
    {
     "name": "stdout",
     "output_type": "stream",
     "text": [
      "Requirement already satisfied: selenium in c:\\users\\hde10\\anaconda3\\lib\\site-packages (4.5.0)\n",
      "Requirement already satisfied: certifi>=2021.10.8 in c:\\users\\hde10\\anaconda3\\lib\\site-packages (from selenium) (2022.9.14)\n",
      "Requirement already satisfied: urllib3[socks]~=1.26 in c:\\users\\hde10\\anaconda3\\lib\\site-packages (from selenium) (1.26.11)\n",
      "Requirement already satisfied: trio-websocket~=0.9 in c:\\users\\hde10\\anaconda3\\lib\\site-packages (from selenium) (0.9.2)\n",
      "Requirement already satisfied: trio~=0.17 in c:\\users\\hde10\\anaconda3\\lib\\site-packages (from selenium) (0.22.0)\n",
      "Requirement already satisfied: cffi>=1.14 in c:\\users\\hde10\\anaconda3\\lib\\site-packages (from trio~=0.17->selenium) (1.15.1)\n",
      "Requirement already satisfied: sniffio in c:\\users\\hde10\\anaconda3\\lib\\site-packages (from trio~=0.17->selenium) (1.2.0)\n",
      "Requirement already satisfied: outcome in c:\\users\\hde10\\anaconda3\\lib\\site-packages (from trio~=0.17->selenium) (1.2.0)\n",
      "Requirement already satisfied: attrs>=19.2.0 in c:\\users\\hde10\\anaconda3\\lib\\site-packages (from trio~=0.17->selenium) (21.4.0)\n",
      "Requirement already satisfied: async-generator>=1.9 in c:\\users\\hde10\\anaconda3\\lib\\site-packages (from trio~=0.17->selenium) (1.10)\n",
      "Requirement already satisfied: sortedcontainers in c:\\users\\hde10\\anaconda3\\lib\\site-packages (from trio~=0.17->selenium) (2.4.0)\n",
      "Requirement already satisfied: exceptiongroup>=1.0.0rc9 in c:\\users\\hde10\\anaconda3\\lib\\site-packages (from trio~=0.17->selenium) (1.0.0)\n",
      "Requirement already satisfied: idna in c:\\users\\hde10\\anaconda3\\lib\\site-packages (from trio~=0.17->selenium) (3.3)\n",
      "Requirement already satisfied: wsproto>=0.14 in c:\\users\\hde10\\anaconda3\\lib\\site-packages (from trio-websocket~=0.9->selenium) (1.2.0)\n",
      "Requirement already satisfied: PySocks!=1.5.7,<2.0,>=1.5.6 in c:\\users\\hde10\\anaconda3\\lib\\site-packages (from urllib3[socks]~=1.26->selenium) (1.7.1)\n",
      "Requirement already satisfied: pycparser in c:\\users\\hde10\\anaconda3\\lib\\site-packages (from cffi>=1.14->trio~=0.17->selenium) (2.21)\n",
      "Requirement already satisfied: h11<1,>=0.9.0 in c:\\users\\hde10\\anaconda3\\lib\\site-packages (from wsproto>=0.14->trio-websocket~=0.9->selenium) (0.14.0)\n",
      "Note: you may need to restart the kernel to use updated packages.\n"
     ]
    }
   ],
   "source": [
    "pip install selenium"
   ]
  },
  {
   "cell_type": "code",
   "execution_count": 79,
   "id": "bf52fd5d",
   "metadata": {},
   "outputs": [],
   "source": [
    "from selenium import webdriver"
   ]
  },
  {
   "cell_type": "code",
   "execution_count": 80,
   "id": "4a66d128",
   "metadata": {},
   "outputs": [],
   "source": [
    "browser = webdriver.Chrome()"
   ]
  },
  {
   "cell_type": "code",
   "execution_count": 81,
   "id": "d1cdbb7b",
   "metadata": {},
   "outputs": [],
   "source": [
    "browser.get(\"http://www.naver.com\")"
   ]
  },
  {
   "cell_type": "code",
   "execution_count": 82,
   "id": "0c74b235",
   "metadata": {},
   "outputs": [],
   "source": [
    "browser.get(\"https://search.naver.com/search.naver?where=nexearch&sm=top_hty&fbm=0&ie=utf8&query=%EB%82%A0%EC%94%A8\")"
   ]
  },
  {
   "cell_type": "code",
   "execution_count": 83,
   "id": "ed4c96d5",
   "metadata": {},
   "outputs": [],
   "source": [
    "from selenium.webdriver.common.by import By"
   ]
  },
  {
   "cell_type": "code",
   "execution_count": 84,
   "id": "fc96b773",
   "metadata": {},
   "outputs": [],
   "source": [
    "browser.find_element(By.ID, 'nx_query').click()"
   ]
  },
  {
   "cell_type": "code",
   "execution_count": 85,
   "id": "8e866702",
   "metadata": {},
   "outputs": [],
   "source": [
    "browser.find_element(By.ID, 'nx_query').send_keys(\"날씨\")"
   ]
  },
  {
   "cell_type": "code",
   "execution_count": 86,
   "id": "6b3bd71b",
   "metadata": {},
   "outputs": [],
   "source": [
    "browser.find_element(By.XPATH, '//*[@id=\"nx_search_form\"]/fieldset/button').click()"
   ]
  },
  {
   "cell_type": "code",
   "execution_count": 87,
   "id": "847334fe",
   "metadata": {},
   "outputs": [
    {
     "data": {
      "text/plain": [
       "<selenium.webdriver.remote.webelement.WebElement (session=\"f7cc5248fddb16d7adc6d2441238e8b4\", element=\"64bd623f-b0ff-4b2a-a463-589ecfce5be0\")>"
      ]
     },
     "execution_count": 87,
     "metadata": {},
     "output_type": "execute_result"
    }
   ],
   "source": [
    "browser.find_element(By.CLASS_NAME, 'blind')"
   ]
  },
  {
   "cell_type": "code",
   "execution_count": 88,
   "id": "1ee03c4e",
   "metadata": {},
   "outputs": [
    {
     "data": {
      "text/plain": [
       "'11.7°'"
      ]
     },
     "execution_count": 88,
     "metadata": {},
     "output_type": "execute_result"
    }
   ],
   "source": [
    "data = browser.find_element(By.XPATH, '//*[@id=\"main_pack\"]/section[1]/div[1]/div[2]/div[1]/div[1]/div/div[2]/div/div[1]/div[1]/div[2]').text\n",
    "data[6:]"
   ]
  },
  {
   "cell_type": "code",
   "execution_count": 89,
   "id": "4e680efc",
   "metadata": {},
   "outputs": [
    {
     "data": {
      "text/plain": [
       "'°'"
      ]
     },
     "execution_count": 89,
     "metadata": {},
     "output_type": "execute_result"
    }
   ],
   "source": [
    "browser.find_element(By.XPATH, '//*[@id=\"main_pack\"]/section[1]/div[1]/div[2]/div[1]/div[1]/div/div[2]/div/div[1]/div[1]/div[2]').find_element(By.CLASS_NAME, 'celsius').text"
   ]
  },
  {
   "cell_type": "code",
   "execution_count": 90,
   "id": "bfb5ffaf",
   "metadata": {},
   "outputs": [],
   "source": [
    "browser.find_element(By.ID, 'nx_query').click()"
   ]
  },
  {
   "cell_type": "code",
   "execution_count": 91,
   "id": "9b9e1669",
   "metadata": {},
   "outputs": [],
   "source": [
    "browser.find_element(By.ID, 'nx_query').clear()"
   ]
  },
  {
   "cell_type": "code",
   "execution_count": 92,
   "id": "0ae2d9f3",
   "metadata": {},
   "outputs": [],
   "source": [
    "browser.find_element(By.ID, 'nx_query').send_keys(\"환율\")"
   ]
  },
  {
   "cell_type": "code",
   "execution_count": 93,
   "id": "7f95461e",
   "metadata": {},
   "outputs": [],
   "source": [
    "browser.find_element(By.XPATH, '//*[@id=\"nx_search_form\"]/fieldset/button').click()"
   ]
  },
  {
   "cell_type": "code",
   "execution_count": 94,
   "id": "e47d14e9",
   "metadata": {},
   "outputs": [
    {
     "data": {
      "text/plain": [
       "'1,425.50'"
      ]
     },
     "execution_count": 94,
     "metadata": {},
     "output_type": "execute_result"
    }
   ],
   "source": [
    "browser.find_element(By.XPATH, '//*[@id=\"_cs_foreigninfo\"]/div/div[2]/div/div[1]/div[1]/div[1]/div[1]/h3/a/span[2]/strong').text"
   ]
  },
  {
   "cell_type": "markdown",
   "id": "9c4e49c0",
   "metadata": {},
   "source": [
    "## 구글 뉴스 크롤링"
   ]
  },
  {
   "cell_type": "markdown",
   "id": "39b61058",
   "metadata": {},
   "source": [
    "### 단건 뉴스 크롤링"
   ]
  },
  {
   "cell_type": "code",
   "execution_count": 95,
   "id": "d5b2e089",
   "metadata": {},
   "outputs": [],
   "source": [
    "browser.get('https://www.google.com/search?q=%EC%9E%90%EB%8F%99%ED%99%94&source=lnms&tbm=nws&sa=X&ved=2ahUKEwi0ivrzjYP7AhVMyGEKHSYHAY8Q_AUoAnoECAIQBA&biw=990&bih=534&dpr=1.25')"
   ]
  },
  {
   "cell_type": "code",
   "execution_count": 98,
   "id": "aab22ff8",
   "metadata": {},
   "outputs": [
    {
     "data": {
      "text/plain": [
       "'[올쇼TV] \"FortiSOAR를 활용한 자동화 위협 대응 사례\" 11월 2일 웨비나 생방송'"
      ]
     },
     "execution_count": 98,
     "metadata": {},
     "output_type": "execute_result"
    }
   ],
   "source": [
    "browser.find_element(By.CLASS_NAME, 'mCBkyc').text"
   ]
  },
  {
   "cell_type": "code",
   "execution_count": 100,
   "id": "3ec2db27",
   "metadata": {},
   "outputs": [
    {
     "data": {
      "text/plain": [
       "\"오픈베이스는 11월 2일(수) 14시부터 전자신문 웨비나 전문 방송 올쇼TV에서 'FortiSOAR를 활용한 자동화 위협 대응 사례'를 주제로 웨비나를 진행...\""
      ]
     },
     "execution_count": 100,
     "metadata": {},
     "output_type": "execute_result"
    }
   ],
   "source": [
    "browser.find_element(By.CLASS_NAME, 'GI74Re').text"
   ]
  },
  {
   "cell_type": "code",
   "execution_count": 101,
   "id": "6eb0e0a7",
   "metadata": {},
   "outputs": [
    {
     "data": {
      "text/plain": [
       "'https://www.etnews.com/20221018000152'"
      ]
     },
     "execution_count": 101,
     "metadata": {},
     "output_type": "execute_result"
    }
   ],
   "source": [
    "browser.find_element(By.CLASS_NAME, 'WlydOe').get_attribute('href')"
   ]
  },
  {
   "cell_type": "markdown",
   "id": "d997e58d",
   "metadata": {},
   "source": [
    "### 1페이지 뉴스 크롤링(10개)"
   ]
  },
  {
   "cell_type": "code",
   "execution_count": 107,
   "id": "f29986bd",
   "metadata": {},
   "outputs": [
    {
     "data": {
      "text/plain": [
       "['[올쇼TV] \"FortiSOAR를 활용한 자동화 위협 대응 사례\" 11월 2일 웨비나 생방송',\n",
       " '세일포인트, AI인텔리전스·자동화·통합으로 아이덴티티 보안 강화',\n",
       " 'H2O호스피탈리티, 알펜시아에 예약자동화·스마트체크인 제공',\n",
       " '창원공동물류센터, 첨단 자동화 설비 갖춘 스마트물류센터로',\n",
       " '한화생명, 자동화 기술 특허 취득 ‘설계부터 청약까지 로봇이’',\n",
       " '세일포인트 “AI 기반 자동화된 아이덴티티 보안 방식으로 변화 ...',\n",
       " '[로보월드] 자동차 시트 프레임 검사 자동화, 작업자 부담 낮춰',\n",
       " '산업 자동화 소프트웨어 시장: 2022년에 대한 3가지 대담한 전망 ...',\n",
       " \"MS의 B2B 전략 '초자동화 통한 생산성의 극대화' (이그나이트 ...\",\n",
       " '롯데홈쇼핑, 이천 물류센터 오픈...로봇기반 첨단 자동화시스템 도입']"
      ]
     },
     "execution_count": 107,
     "metadata": {},
     "output_type": "execute_result"
    }
   ],
   "source": [
    "titles = browser.find_elements(By.CLASS_NAME, 'mCBkyc')\n",
    "\n",
    "title = []\n",
    "for i in titles:\n",
    "    title.append(i.text)\n",
    "\n",
    "title"
   ]
  },
  {
   "cell_type": "code",
   "execution_count": 112,
   "id": "7c6945c8",
   "metadata": {},
   "outputs": [
    {
     "name": "stdout",
     "output_type": "stream",
     "text": [
      "['[올쇼TV] \"FortiSOAR를 활용한 자동화 위협 대응 사례\" 11월 2일 웨비나 생방송', '세일포인트, AI인텔리전스·자동화·통합으로 아이덴티티 보안 강화', 'H2O호스피탈리티, 알펜시아에 예약자동화·스마트체크인 제공', '창원공동물류센터, 첨단 자동화 설비 갖춘 스마트물류센터로', '한화생명, 자동화 기술 특허 취득 ‘설계부터 청약까지 로봇이’', '세일포인트 “AI 기반 자동화된 아이덴티티 보안 방식으로 변화 ...', '[로보월드] 자동차 시트 프레임 검사 자동화, 작업자 부담 낮춰', '산업 자동화 소프트웨어 시장: 2022년에 대한 3가지 대담한 전망 ...', \"MS의 B2B 전략 '초자동화 통한 생산성의 극대화' (이그나이트 ...\", '롯데홈쇼핑, 이천 물류센터 오픈...로봇기반 첨단 자동화시스템 도입']\n",
      "[\"오픈베이스는 11월 2일(수) 14시부터 전자신문 웨비나 전문 방송 올쇼TV에서 'FortiSOAR를 활용한 자동화 위협 대응 사례'를 주제로 웨비나를 진행...\", '세일포인트가 AI로 구동되는 인텔리전스 기능에 자동화, 통합 기능을 합친 새로운 아이텐티티 보안 클라우드를 선보였다.', 'H2O호스피탈리티, 알펜시아에 예약자동화·스마트체크인 제공 - 매일경제, 섹션-business.', '(창원=연합뉴스) 김선경 기자 = 경남 창원국가산업단지 공동물류센터가 첨단 자동화 설비 등을 갖춘 스마트물류센터로 재탄생했다.', '한화생명이 업계 최초로 보험 신계약 과정을 로봇 기술로 자동화하며 법인대리점(GA) 시장에서의 영업 경쟁력 강화에 나섰다. 한화생명은 보험설계 및...', '“이제는 인간의 능력으로 관리하기에는 너무 많은 아이덴티티가 존재하기 때문에 도구, 특히 자동화된 도구화에 의존해야 한다.”.', '[로보월드] 자동차 시트 프레임 검사 자동화, 작업자 부담 낮춰. 로봇에 카메라 부착해 치수, 패드 부착 등 확인. 기사입력 2022-10-28 17:15:58.', 'AMA Research의 최근 추가된 산업용 자동화 소프트웨어 시장 조사 연구는 2027년까지의 자세한 전망과 정교한 시장 검토를 제공합니다.', '초자동화를 위한 포괄적 인프라. 가트너가 발표한 2022년 최고 전략 기술 경향 리포트11)에서는 두 가지 중요한 점을 이야기하고 있다. 먼저 초자동화가...', '이들은 오픈식 이후 물류센터를 함께 둘러보고 자동화 설비를 시연하는 투어를 진행했다. 이 대표는 축사를 통해 “자동화 물류 시스템 도입은 롯데홈쇼핑...']\n"
     ]
    }
   ],
   "source": [
    "contents = browser.find_elements(By.CLASS_NAME, 'GI74Re')\n",
    "\n",
    "content = []\n",
    "for i in contents:\n",
    "    content.append(i.text)\n",
    "\n",
    "print(title)\n",
    "print(content)"
   ]
  },
  {
   "cell_type": "code",
   "execution_count": 118,
   "id": "7c3f3d60",
   "metadata": {},
   "outputs": [
    {
     "name": "stdout",
     "output_type": "stream",
     "text": [
      "https://www.etnews.com/20221018000152\n",
      "https://zdnet.co.kr/view/?no=20221027152923\n",
      "https://www.mk.co.kr/news/business/view/2022/10/956303/\n",
      "https://www.yna.co.kr/view/AKR20221027042200052\n",
      "http://mbiz.heraldcorp.com/view.php?ud=20221026000414\n",
      "https://byline.network/2022/10/28-251/\n",
      "https://www.kidd.co.kr/news/229877\n",
      "https://osaek.info/%EC%86%8C%EC%8B%9D/%EC%82%B0%EC%97%85-%EC%9E%90%EB%8F%99%ED%99%94-%EC%86%8C%ED%94%84%ED%8A%B8%EC%9B%A8%EC%96%B4-%EC%8B%9C%EC%9E%A5-2022%EB%85%84%EC%97%90-%EB%8C%80%ED%95%9C-3%EA%B0%80%EC%A7%80-%EB%8C%80%EB%8B%B4/34008/\n",
      "https://slownews.kr/87361\n",
      "https://m.khan.co.kr/economy/market-trend/article/202210241415011\n"
     ]
    },
    {
     "data": {
      "text/plain": [
       "[]"
      ]
     },
     "execution_count": 118,
     "metadata": {},
     "output_type": "execute_result"
    }
   ],
   "source": [
    "links = browser.find_elements(By.CLASS_NAME, 'WlydOe')\n",
    "\n",
    "link = []\n",
    "for i in links:\n",
    "    print(i.get_attribute('href'))\n",
    "    \n",
    "print"
   ]
  },
  {
   "cell_type": "markdown",
   "id": "c27952db",
   "metadata": {},
   "source": [
    "#4:37:21"
   ]
  },
  {
   "cell_type": "code",
   "execution_count": null,
   "id": "6f106548",
   "metadata": {},
   "outputs": [],
   "source": []
  },
  {
   "cell_type": "code",
   "execution_count": null,
   "id": "694748ce",
   "metadata": {},
   "outputs": [],
   "source": []
  }
 ],
 "metadata": {
  "kernelspec": {
   "display_name": "Python 3 (ipykernel)",
   "language": "python",
   "name": "python3"
  },
  "language_info": {
   "codemirror_mode": {
    "name": "ipython",
    "version": 3
   },
   "file_extension": ".py",
   "mimetype": "text/x-python",
   "name": "python",
   "nbconvert_exporter": "python",
   "pygments_lexer": "ipython3",
   "version": "3.9.13"
  }
 },
 "nbformat": 4,
 "nbformat_minor": 5
}
