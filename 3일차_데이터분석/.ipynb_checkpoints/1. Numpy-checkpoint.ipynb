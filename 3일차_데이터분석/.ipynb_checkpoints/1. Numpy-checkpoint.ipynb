{
 "cells": [
  {
   "cell_type": "markdown",
   "id": "38789517",
   "metadata": {},
   "source": [
    "## Numpy\n",
    "- 파이썬에서 수학적 계산을 쉽게 할 수 있도록 도와주는 라이브러리"
   ]
  },
  {
   "cell_type": "code",
   "execution_count": 2,
   "id": "6e4d87d8",
   "metadata": {},
   "outputs": [],
   "source": [
    "import numpy as np"
   ]
  },
  {
   "cell_type": "code",
   "execution_count": 3,
   "id": "984f0869",
   "metadata": {},
   "outputs": [
    {
     "data": {
      "text/plain": [
       "array(['A', 'B', 'C', 'D', 'E'], dtype='<U1')"
      ]
     },
     "execution_count": 3,
     "metadata": {},
     "output_type": "execute_result"
    }
   ],
   "source": [
    "# 1차원 배열 생성\n",
    "array = np.array([\"A\", \"B\", \"C\", \"D\", \"E\"])\n",
    "array"
   ]
  },
  {
   "cell_type": "code",
   "execution_count": 4,
   "id": "cd971ee2",
   "metadata": {},
   "outputs": [
    {
     "name": "stdout",
     "output_type": "stream",
     "text": [
      "(5,)\n",
      "1\n",
      "<U1\n"
     ]
    }
   ],
   "source": [
    "print(array.shape)   # 차원의 요소 개수\n",
    "print(array.ndim)   # 차원\n",
    "print(array.dtype)   # data type -> 공통적인 데이터 타입"
   ]
  },
  {
   "cell_type": "code",
   "execution_count": 5,
   "id": "c38c9c5b",
   "metadata": {},
   "outputs": [
    {
     "data": {
      "text/plain": [
       "array([['A', 'B', 'C'],\n",
       "       ['D', 'E', 'F']], dtype='<U1')"
      ]
     },
     "execution_count": 5,
     "metadata": {},
     "output_type": "execute_result"
    }
   ],
   "source": [
    "array2 = np.array([[\"A\", \"B\", \"C\"], [\"D\", \"E\", \"F\"]])\n",
    "array2"
   ]
  },
  {
   "cell_type": "code",
   "execution_count": 6,
   "id": "3862fc49",
   "metadata": {},
   "outputs": [
    {
     "name": "stdout",
     "output_type": "stream",
     "text": [
      "(2, 3)\n",
      "2\n",
      "<U1\n"
     ]
    }
   ],
   "source": [
    "print(array2.shape)\n",
    "print(array2.ndim)\n",
    "print(array2.dtype)"
   ]
  },
  {
   "cell_type": "code",
   "execution_count": 7,
   "id": "518819b1",
   "metadata": {},
   "outputs": [
    {
     "data": {
      "text/plain": [
       "array([[['A', 'B', 'C'],\n",
       "        ['D', 'E', 'F']],\n",
       "\n",
       "       [['A', 'B', 'C'],\n",
       "        ['D', 'E', 'F']]], dtype='<U1')"
      ]
     },
     "execution_count": 7,
     "metadata": {},
     "output_type": "execute_result"
    }
   ],
   "source": [
    "array3 = np.array([[[\"A\", \"B\", \"C\"], [\"D\", \"E\", \"F\"]], [[\"A\", \"B\", \"C\"], [\"D\", \"E\", \"F\"]]])\n",
    "array3"
   ]
  },
  {
   "cell_type": "code",
   "execution_count": 8,
   "id": "b661986d",
   "metadata": {},
   "outputs": [
    {
     "name": "stdout",
     "output_type": "stream",
     "text": [
      "(2, 2, 3)\n",
      "3\n",
      "<U1\n"
     ]
    }
   ],
   "source": [
    "print(array3.shape)\n",
    "print(array3.ndim)\n",
    "print(array3.dtype)"
   ]
  },
  {
   "cell_type": "code",
   "execution_count": 9,
   "id": "c3195e45",
   "metadata": {},
   "outputs": [
    {
     "name": "stdout",
     "output_type": "stream",
     "text": [
      "int32\n",
      "float64\n"
     ]
    }
   ],
   "source": [
    "array4 = np.array([1, 2, 3, 4, 5])\n",
    "print(array4.dtype)\n",
    "\n",
    "# astype() - ndarray 타입변환\n",
    "array4 = array4.astype(np.float64)\n",
    "print(array4.dtype)"
   ]
  },
  {
   "cell_type": "code",
   "execution_count": 10,
   "id": "203adaa9",
   "metadata": {},
   "outputs": [
    {
     "data": {
      "text/plain": [
       "array([1, 2, 3, 4, 5, 6, 7, 8, 9])"
      ]
     },
     "execution_count": 10,
     "metadata": {},
     "output_type": "execute_result"
    }
   ],
   "source": [
    "arr = np.arange(1, 10)\n",
    "arr"
   ]
  },
  {
   "cell_type": "code",
   "execution_count": 11,
   "id": "9b279134",
   "metadata": {},
   "outputs": [
    {
     "data": {
      "text/plain": [
       "array([1, 2, 3])"
      ]
     },
     "execution_count": 11,
     "metadata": {},
     "output_type": "execute_result"
    }
   ],
   "source": [
    "arr[0:3]"
   ]
  },
  {
   "cell_type": "code",
   "execution_count": 13,
   "id": "5521305c",
   "metadata": {},
   "outputs": [
    {
     "name": "stdout",
     "output_type": "stream",
     "text": [
      "[False False False False False False  True  True  True]\n",
      "[7 8 9]\n"
     ]
    }
   ],
   "source": [
    "print(arr > 6)\n",
    "print(arr[arr > 6])"
   ]
  },
  {
   "cell_type": "code",
   "execution_count": 15,
   "id": "598ac2ba",
   "metadata": {},
   "outputs": [
    {
     "name": "stdout",
     "output_type": "stream",
     "text": [
      "[[ 6  8]\n",
      " [10 12]]\n",
      "[[ 5 12]\n",
      " [21 32]]\n"
     ]
    }
   ],
   "source": [
    "arr1 = np.array([[1, 2], [3, 4]])\n",
    "arr2 = np.array([[5, 6], [7, 8]])\n",
    "\n",
    "add = np.add(arr1, arr2)\n",
    "print(add)\n",
    "\n",
    "multiply = np.multiply(arr1, arr2)\n",
    "print(multiply)"
   ]
  }
 ],
 "metadata": {
  "kernelspec": {
   "display_name": "Python 3 (ipykernel)",
   "language": "python",
   "name": "python3"
  },
  "language_info": {
   "codemirror_mode": {
    "name": "ipython",
    "version": 3
   },
   "file_extension": ".py",
   "mimetype": "text/x-python",
   "name": "python",
   "nbconvert_exporter": "python",
   "pygments_lexer": "ipython3",
   "version": "3.9.13"
  }
 },
 "nbformat": 4,
 "nbformat_minor": 5
}
